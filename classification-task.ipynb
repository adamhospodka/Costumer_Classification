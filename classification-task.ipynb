{
 "cells": [
  {
   "cell_type": "markdown",
   "metadata": {},
   "source": [
    "# 4IZ566 - DS Project - Classification Part"
   ]
  },
  {
   "cell_type": "markdown",
   "metadata": {},
   "source": [
    "### Authors\n",
    "- Adam Hospodka - `hosa04@vse.cz`\n",
    "- Vítězslav Slavík - `slav02@vse.cz`"
   ]
  },
  {
   "cell_type": "markdown",
   "metadata": {},
   "source": [
    "### Python Version\n",
    "3.7\n",
    "\n",
    "### Packages\n",
    "viz requirements.txt\n",
    "- Numpy\n",
    "- Matplotlib\n",
    "- Seaborn\n",
    "- Scikit-Learn\n",
    "- Keras (Tensorflow BE)"
   ]
  },
  {
   "cell_type": "markdown",
   "metadata": {},
   "source": [
    "## Data Description\n",
    "This dataset is called *Online Shopper's Intention* and comes from *kaggle.com* website.\n",
    "\n",
    "**Source** : https://www.kaggle.com/roshansharma/online-shoppers-intention\n",
    "\n",
    "The dataset consists of feature vectors belonging to 12,330 sessions. \n",
    "The dataset was formed so that each session \n",
    "would belong to a different user in a 1-year period to avoid \n",
    "any tendency to a specific campaign, special day, user \n",
    "profile, or period.\n",
    "\n",
    "<img src=\"images/data-meta.png\" alt=\"Drawing\" style=\"width: 400px;\"/>\n",
    "\n",
    "### The dataset consists of 10 numerical and 8 categorical attributes\n",
    "\n",
    "**The 'Revenue' attribute**\n",
    "can be used as the class label. \n",
    "\n",
    "**\"Administrative\", \"Administrative Duration\", \"Informational\", \"Informational Duration\", \"Product Related\" and \"Product Related Duration\"** \n",
    "represent the number of different types of pages visited by the visitor in that session and total time spent in each of these page categories.  \n",
    "The values of these features are derived from the URL information of the pages visited by the user and updated in real time when a user takes an action, e.g. moving from one page to another. \n",
    "\n",
    "**The \"Bounce Rate\", \"Exit Rate\" and \"Page Value\" features** \n",
    "represent the metrics measured by \"Google Analytics\" for each page in the e-commerce site. In this case, we are thinking that in our case those rates has been agregated from all pages customer went throught, but it wasn't explicitly described anywhere.\n",
    "\n",
    "**The value of \"Bounce Rate\" feature for a web page** \n",
    "refers to the percentage of visitors who enter the site from that page and then leave (\"bounce\") without triggering any other requests to the analytics server during that session.\n",
    "\n",
    "**The value of \"Exit Rate\" feature for a specific web page**\n",
    "is calculated as for all pageviews to the page, the percentage that were the last in the session. \n",
    "\n",
    "**The \"Page Value\" feature**\n",
    "represents the average value for a web page that a user visited before completing an e-commerce transaction. \n",
    "\n",
    "**The \"Special Day\" feature** \n",
    "indicates the closeness of the site visiting time to a specific special day (e.g. Mother’s Day, Valentine's Day) in which the sessions are more likely to be finalized with transaction. \n",
    "The value of this attribute is determined by considering the dynamics of e-commerce such as the duration between the order date and delivery date. For example, for Valentina’s day, this value takes a nonzero value between February 2 and February 12, zero before and after this date unless it is close to another special day, and its maximum value of 1 on February 8. \n",
    "\n",
    "The dataset also includes operating system, browser, region, traffic type, visitor type as returning or new visitor, a Boolean value indicating whether the date of the visit is weekend, and month of the year."
   ]
  },
  {
   "cell_type": "markdown",
   "metadata": {},
   "source": [
    "## Goals for analysis\n",
    "- perform an EDA and get familiar with the data (placed in the second jup notebook)\n",
    "- find a model that is able to predict if the customer is about to buy something. It will improve the ability of marketing campaign to target relevant customer and can lead to real time offering to support the better conversion."
   ]
  },
  {
   "cell_type": "markdown",
   "metadata": {},
   "source": [
    "## Global Variables"
   ]
  },
  {
   "cell_type": "code",
   "execution_count": 1,
   "metadata": {},
   "outputs": [],
   "source": [
    "RANDOM_STATE = 3\n",
    "TARGET_VARIABLE = 'Revenue'\n",
    "TEST_SIZE = 0.3"
   ]
  },
  {
   "cell_type": "markdown",
   "metadata": {},
   "source": [
    "# Imports"
   ]
  },
  {
   "cell_type": "code",
   "execution_count": 2,
   "metadata": {
    "pycharm": {
     "is_executing": false,
     "name": "#%%\n"
    }
   },
   "outputs": [],
   "source": [
    "# Supress Notebook Warnings\n",
    "import warnings\n",
    "warnings.filterwarnings('ignore')\n",
    "\n",
    "import numpy as np\n",
    "import pandas as pd\n",
    "\n",
    "# Visualization\n",
    "import matplotlib.pyplot as plt\n",
    "import seaborn as sns\n",
    "%matplotlib inline\n",
    "sns.set()"
   ]
  },
  {
   "cell_type": "code",
   "execution_count": 3,
   "metadata": {
    "pycharm": {
     "is_executing": false,
     "name": "#%%\n"
    }
   },
   "outputs": [
    {
     "data": {
      "text/html": [
       "<div>\n",
       "<style scoped>\n",
       "    .dataframe tbody tr th:only-of-type {\n",
       "        vertical-align: middle;\n",
       "    }\n",
       "\n",
       "    .dataframe tbody tr th {\n",
       "        vertical-align: top;\n",
       "    }\n",
       "\n",
       "    .dataframe thead th {\n",
       "        text-align: right;\n",
       "    }\n",
       "</style>\n",
       "<table border=\"1\" class=\"dataframe\">\n",
       "  <thead>\n",
       "    <tr style=\"text-align: right;\">\n",
       "      <th></th>\n",
       "      <th>Administrative</th>\n",
       "      <th>Administrative_Duration</th>\n",
       "      <th>Informational</th>\n",
       "      <th>Informational_Duration</th>\n",
       "      <th>ProductRelated</th>\n",
       "      <th>ProductRelated_Duration</th>\n",
       "      <th>BounceRates</th>\n",
       "      <th>ExitRates</th>\n",
       "      <th>PageValues</th>\n",
       "      <th>SpecialDay</th>\n",
       "      <th>Month</th>\n",
       "      <th>OperatingSystems</th>\n",
       "      <th>Browser</th>\n",
       "      <th>Region</th>\n",
       "      <th>TrafficType</th>\n",
       "      <th>VisitorType</th>\n",
       "      <th>Weekend</th>\n",
       "      <th>Revenue</th>\n",
       "    </tr>\n",
       "  </thead>\n",
       "  <tbody>\n",
       "    <tr>\n",
       "      <th>12325</th>\n",
       "      <td>3.0</td>\n",
       "      <td>145.0</td>\n",
       "      <td>0.0</td>\n",
       "      <td>0.0</td>\n",
       "      <td>53.0</td>\n",
       "      <td>1783.791667</td>\n",
       "      <td>0.007143</td>\n",
       "      <td>0.029031</td>\n",
       "      <td>12.241717</td>\n",
       "      <td>0.0</td>\n",
       "      <td>Dec</td>\n",
       "      <td>4</td>\n",
       "      <td>6</td>\n",
       "      <td>1</td>\n",
       "      <td>1</td>\n",
       "      <td>Returning_Visitor</td>\n",
       "      <td>True</td>\n",
       "      <td>False</td>\n",
       "    </tr>\n",
       "    <tr>\n",
       "      <th>12326</th>\n",
       "      <td>0.0</td>\n",
       "      <td>0.0</td>\n",
       "      <td>0.0</td>\n",
       "      <td>0.0</td>\n",
       "      <td>5.0</td>\n",
       "      <td>465.750000</td>\n",
       "      <td>0.000000</td>\n",
       "      <td>0.021333</td>\n",
       "      <td>0.000000</td>\n",
       "      <td>0.0</td>\n",
       "      <td>Nov</td>\n",
       "      <td>3</td>\n",
       "      <td>2</td>\n",
       "      <td>1</td>\n",
       "      <td>8</td>\n",
       "      <td>Returning_Visitor</td>\n",
       "      <td>True</td>\n",
       "      <td>False</td>\n",
       "    </tr>\n",
       "    <tr>\n",
       "      <th>12327</th>\n",
       "      <td>0.0</td>\n",
       "      <td>0.0</td>\n",
       "      <td>0.0</td>\n",
       "      <td>0.0</td>\n",
       "      <td>6.0</td>\n",
       "      <td>184.250000</td>\n",
       "      <td>0.083333</td>\n",
       "      <td>0.086667</td>\n",
       "      <td>0.000000</td>\n",
       "      <td>0.0</td>\n",
       "      <td>Nov</td>\n",
       "      <td>3</td>\n",
       "      <td>2</td>\n",
       "      <td>1</td>\n",
       "      <td>13</td>\n",
       "      <td>Returning_Visitor</td>\n",
       "      <td>True</td>\n",
       "      <td>False</td>\n",
       "    </tr>\n",
       "    <tr>\n",
       "      <th>12328</th>\n",
       "      <td>4.0</td>\n",
       "      <td>75.0</td>\n",
       "      <td>0.0</td>\n",
       "      <td>0.0</td>\n",
       "      <td>15.0</td>\n",
       "      <td>346.000000</td>\n",
       "      <td>0.000000</td>\n",
       "      <td>0.021053</td>\n",
       "      <td>0.000000</td>\n",
       "      <td>0.0</td>\n",
       "      <td>Nov</td>\n",
       "      <td>2</td>\n",
       "      <td>2</td>\n",
       "      <td>3</td>\n",
       "      <td>11</td>\n",
       "      <td>Returning_Visitor</td>\n",
       "      <td>False</td>\n",
       "      <td>False</td>\n",
       "    </tr>\n",
       "    <tr>\n",
       "      <th>12329</th>\n",
       "      <td>0.0</td>\n",
       "      <td>0.0</td>\n",
       "      <td>0.0</td>\n",
       "      <td>0.0</td>\n",
       "      <td>3.0</td>\n",
       "      <td>21.250000</td>\n",
       "      <td>0.000000</td>\n",
       "      <td>0.066667</td>\n",
       "      <td>0.000000</td>\n",
       "      <td>0.0</td>\n",
       "      <td>Nov</td>\n",
       "      <td>3</td>\n",
       "      <td>2</td>\n",
       "      <td>1</td>\n",
       "      <td>2</td>\n",
       "      <td>New_Visitor</td>\n",
       "      <td>True</td>\n",
       "      <td>False</td>\n",
       "    </tr>\n",
       "  </tbody>\n",
       "</table>\n",
       "</div>"
      ],
      "text/plain": [
       "       Administrative  Administrative_Duration  Informational  \\\n",
       "12325             3.0                    145.0            0.0   \n",
       "12326             0.0                      0.0            0.0   \n",
       "12327             0.0                      0.0            0.0   \n",
       "12328             4.0                     75.0            0.0   \n",
       "12329             0.0                      0.0            0.0   \n",
       "\n",
       "       Informational_Duration  ProductRelated  ProductRelated_Duration  \\\n",
       "12325                     0.0            53.0              1783.791667   \n",
       "12326                     0.0             5.0               465.750000   \n",
       "12327                     0.0             6.0               184.250000   \n",
       "12328                     0.0            15.0               346.000000   \n",
       "12329                     0.0             3.0                21.250000   \n",
       "\n",
       "       BounceRates  ExitRates  PageValues  SpecialDay Month  OperatingSystems  \\\n",
       "12325     0.007143   0.029031   12.241717         0.0   Dec                 4   \n",
       "12326     0.000000   0.021333    0.000000         0.0   Nov                 3   \n",
       "12327     0.083333   0.086667    0.000000         0.0   Nov                 3   \n",
       "12328     0.000000   0.021053    0.000000         0.0   Nov                 2   \n",
       "12329     0.000000   0.066667    0.000000         0.0   Nov                 3   \n",
       "\n",
       "       Browser  Region  TrafficType        VisitorType  Weekend  Revenue  \n",
       "12325        6       1            1  Returning_Visitor     True    False  \n",
       "12326        2       1            8  Returning_Visitor     True    False  \n",
       "12327        2       1           13  Returning_Visitor     True    False  \n",
       "12328        2       3           11  Returning_Visitor    False    False  \n",
       "12329        2       1            2        New_Visitor     True    False  "
      ]
     },
     "execution_count": 3,
     "metadata": {},
     "output_type": "execute_result"
    }
   ],
   "source": [
    "df_raw = pd.read_csv('data/online_shoppers_intention.csv', delimiter=',')\n",
    "df_raw.tail(5)"
   ]
  },
  {
   "cell_type": "markdown",
   "metadata": {},
   "source": [
    "### Check for null values"
   ]
  },
  {
   "cell_type": "code",
   "execution_count": 4,
   "metadata": {
    "pycharm": {
     "is_executing": false,
     "name": "#%%\n"
    }
   },
   "outputs": [
    {
     "data": {
      "text/plain": [
       "Administrative             14\n",
       "Administrative_Duration    14\n",
       "Informational              14\n",
       "Informational_Duration     14\n",
       "ProductRelated             14\n",
       "ProductRelated_Duration    14\n",
       "BounceRates                14\n",
       "ExitRates                  14\n",
       "PageValues                  0\n",
       "SpecialDay                  0\n",
       "Month                       0\n",
       "OperatingSystems            0\n",
       "Browser                     0\n",
       "Region                      0\n",
       "TrafficType                 0\n",
       "VisitorType                 0\n",
       "Weekend                     0\n",
       "Revenue                     0\n",
       "dtype: int64"
      ]
     },
     "execution_count": 4,
     "metadata": {},
     "output_type": "execute_result"
    }
   ],
   "source": [
    "# Show counter for null values\n",
    "df_raw.isnull().sum()"
   ]
  },
  {
   "cell_type": "code",
   "execution_count": 5,
   "metadata": {
    "pycharm": {
     "is_executing": false,
     "name": "#%%\n"
    },
    "scrolled": true
   },
   "outputs": [
    {
     "data": {
      "text/html": [
       "<div>\n",
       "<style scoped>\n",
       "    .dataframe tbody tr th:only-of-type {\n",
       "        vertical-align: middle;\n",
       "    }\n",
       "\n",
       "    .dataframe tbody tr th {\n",
       "        vertical-align: top;\n",
       "    }\n",
       "\n",
       "    .dataframe thead th {\n",
       "        text-align: right;\n",
       "    }\n",
       "</style>\n",
       "<table border=\"1\" class=\"dataframe\">\n",
       "  <thead>\n",
       "    <tr style=\"text-align: right;\">\n",
       "      <th></th>\n",
       "      <th>Administrative</th>\n",
       "      <th>Administrative_Duration</th>\n",
       "      <th>Informational</th>\n",
       "      <th>Informational_Duration</th>\n",
       "      <th>ProductRelated</th>\n",
       "      <th>ProductRelated_Duration</th>\n",
       "      <th>BounceRates</th>\n",
       "      <th>ExitRates</th>\n",
       "      <th>PageValues</th>\n",
       "      <th>SpecialDay</th>\n",
       "      <th>OperatingSystems</th>\n",
       "      <th>Browser</th>\n",
       "      <th>Region</th>\n",
       "      <th>TrafficType</th>\n",
       "    </tr>\n",
       "  </thead>\n",
       "  <tbody>\n",
       "    <tr>\n",
       "      <th>count</th>\n",
       "      <td>12316.000000</td>\n",
       "      <td>12316.000000</td>\n",
       "      <td>12316.000000</td>\n",
       "      <td>12316.000000</td>\n",
       "      <td>12316.000000</td>\n",
       "      <td>12316.000000</td>\n",
       "      <td>12316.000000</td>\n",
       "      <td>12316.000000</td>\n",
       "      <td>12330.000000</td>\n",
       "      <td>12330.000000</td>\n",
       "      <td>12330.000000</td>\n",
       "      <td>12330.000000</td>\n",
       "      <td>12330.000000</td>\n",
       "      <td>12330.000000</td>\n",
       "    </tr>\n",
       "    <tr>\n",
       "      <th>mean</th>\n",
       "      <td>2.317798</td>\n",
       "      <td>80.906176</td>\n",
       "      <td>0.503979</td>\n",
       "      <td>34.506387</td>\n",
       "      <td>31.763884</td>\n",
       "      <td>1196.037057</td>\n",
       "      <td>0.022152</td>\n",
       "      <td>0.043003</td>\n",
       "      <td>5.889258</td>\n",
       "      <td>0.061427</td>\n",
       "      <td>2.124006</td>\n",
       "      <td>2.357097</td>\n",
       "      <td>3.147364</td>\n",
       "      <td>4.069586</td>\n",
       "    </tr>\n",
       "    <tr>\n",
       "      <th>std</th>\n",
       "      <td>3.322754</td>\n",
       "      <td>176.860432</td>\n",
       "      <td>1.270701</td>\n",
       "      <td>140.825479</td>\n",
       "      <td>44.490339</td>\n",
       "      <td>1914.372511</td>\n",
       "      <td>0.048427</td>\n",
       "      <td>0.048527</td>\n",
       "      <td>18.568437</td>\n",
       "      <td>0.198917</td>\n",
       "      <td>0.911325</td>\n",
       "      <td>1.717277</td>\n",
       "      <td>2.401591</td>\n",
       "      <td>4.025169</td>\n",
       "    </tr>\n",
       "    <tr>\n",
       "      <th>min</th>\n",
       "      <td>0.000000</td>\n",
       "      <td>-1.000000</td>\n",
       "      <td>0.000000</td>\n",
       "      <td>-1.000000</td>\n",
       "      <td>0.000000</td>\n",
       "      <td>-1.000000</td>\n",
       "      <td>0.000000</td>\n",
       "      <td>0.000000</td>\n",
       "      <td>0.000000</td>\n",
       "      <td>0.000000</td>\n",
       "      <td>1.000000</td>\n",
       "      <td>1.000000</td>\n",
       "      <td>1.000000</td>\n",
       "      <td>1.000000</td>\n",
       "    </tr>\n",
       "    <tr>\n",
       "      <th>25%</th>\n",
       "      <td>0.000000</td>\n",
       "      <td>0.000000</td>\n",
       "      <td>0.000000</td>\n",
       "      <td>0.000000</td>\n",
       "      <td>7.000000</td>\n",
       "      <td>185.000000</td>\n",
       "      <td>0.000000</td>\n",
       "      <td>0.014286</td>\n",
       "      <td>0.000000</td>\n",
       "      <td>0.000000</td>\n",
       "      <td>2.000000</td>\n",
       "      <td>2.000000</td>\n",
       "      <td>1.000000</td>\n",
       "      <td>2.000000</td>\n",
       "    </tr>\n",
       "    <tr>\n",
       "      <th>50%</th>\n",
       "      <td>1.000000</td>\n",
       "      <td>8.000000</td>\n",
       "      <td>0.000000</td>\n",
       "      <td>0.000000</td>\n",
       "      <td>18.000000</td>\n",
       "      <td>599.766190</td>\n",
       "      <td>0.003119</td>\n",
       "      <td>0.025124</td>\n",
       "      <td>0.000000</td>\n",
       "      <td>0.000000</td>\n",
       "      <td>2.000000</td>\n",
       "      <td>2.000000</td>\n",
       "      <td>3.000000</td>\n",
       "      <td>2.000000</td>\n",
       "    </tr>\n",
       "    <tr>\n",
       "      <th>75%</th>\n",
       "      <td>4.000000</td>\n",
       "      <td>93.500000</td>\n",
       "      <td>0.000000</td>\n",
       "      <td>0.000000</td>\n",
       "      <td>38.000000</td>\n",
       "      <td>1466.479902</td>\n",
       "      <td>0.016684</td>\n",
       "      <td>0.050000</td>\n",
       "      <td>0.000000</td>\n",
       "      <td>0.000000</td>\n",
       "      <td>3.000000</td>\n",
       "      <td>2.000000</td>\n",
       "      <td>4.000000</td>\n",
       "      <td>4.000000</td>\n",
       "    </tr>\n",
       "    <tr>\n",
       "      <th>max</th>\n",
       "      <td>27.000000</td>\n",
       "      <td>3398.750000</td>\n",
       "      <td>24.000000</td>\n",
       "      <td>2549.375000</td>\n",
       "      <td>705.000000</td>\n",
       "      <td>63973.522230</td>\n",
       "      <td>0.200000</td>\n",
       "      <td>0.200000</td>\n",
       "      <td>361.763742</td>\n",
       "      <td>1.000000</td>\n",
       "      <td>8.000000</td>\n",
       "      <td>13.000000</td>\n",
       "      <td>9.000000</td>\n",
       "      <td>20.000000</td>\n",
       "    </tr>\n",
       "  </tbody>\n",
       "</table>\n",
       "</div>"
      ],
      "text/plain": [
       "       Administrative  Administrative_Duration  Informational  \\\n",
       "count    12316.000000             12316.000000   12316.000000   \n",
       "mean         2.317798                80.906176       0.503979   \n",
       "std          3.322754               176.860432       1.270701   \n",
       "min          0.000000                -1.000000       0.000000   \n",
       "25%          0.000000                 0.000000       0.000000   \n",
       "50%          1.000000                 8.000000       0.000000   \n",
       "75%          4.000000                93.500000       0.000000   \n",
       "max         27.000000              3398.750000      24.000000   \n",
       "\n",
       "       Informational_Duration  ProductRelated  ProductRelated_Duration  \\\n",
       "count            12316.000000    12316.000000             12316.000000   \n",
       "mean                34.506387       31.763884              1196.037057   \n",
       "std                140.825479       44.490339              1914.372511   \n",
       "min                 -1.000000        0.000000                -1.000000   \n",
       "25%                  0.000000        7.000000               185.000000   \n",
       "50%                  0.000000       18.000000               599.766190   \n",
       "75%                  0.000000       38.000000              1466.479902   \n",
       "max               2549.375000      705.000000             63973.522230   \n",
       "\n",
       "        BounceRates     ExitRates    PageValues    SpecialDay  \\\n",
       "count  12316.000000  12316.000000  12330.000000  12330.000000   \n",
       "mean       0.022152      0.043003      5.889258      0.061427   \n",
       "std        0.048427      0.048527     18.568437      0.198917   \n",
       "min        0.000000      0.000000      0.000000      0.000000   \n",
       "25%        0.000000      0.014286      0.000000      0.000000   \n",
       "50%        0.003119      0.025124      0.000000      0.000000   \n",
       "75%        0.016684      0.050000      0.000000      0.000000   \n",
       "max        0.200000      0.200000    361.763742      1.000000   \n",
       "\n",
       "       OperatingSystems       Browser        Region   TrafficType  \n",
       "count      12330.000000  12330.000000  12330.000000  12330.000000  \n",
       "mean           2.124006      2.357097      3.147364      4.069586  \n",
       "std            0.911325      1.717277      2.401591      4.025169  \n",
       "min            1.000000      1.000000      1.000000      1.000000  \n",
       "25%            2.000000      2.000000      1.000000      2.000000  \n",
       "50%            2.000000      2.000000      3.000000      2.000000  \n",
       "75%            3.000000      2.000000      4.000000      4.000000  \n",
       "max            8.000000     13.000000      9.000000     20.000000  "
      ]
     },
     "execution_count": 5,
     "metadata": {},
     "output_type": "execute_result"
    }
   ],
   "source": [
    "df_raw.describe()"
   ]
  },
  {
   "cell_type": "code",
   "execution_count": 6,
   "metadata": {
    "pycharm": {
     "name": "#%%\n"
    },
    "scrolled": true
   },
   "outputs": [
    {
     "name": "stdout",
     "output_type": "stream",
     "text": [
      "Problematic Rows Count: 33\n"
     ]
    }
   ],
   "source": [
    "# Rows with negative duration\n",
    "print('Problematic Rows Count:',df_raw[df_raw['Informational_Duration'] < 0].count()[1])"
   ]
  },
  {
   "cell_type": "markdown",
   "metadata": {},
   "source": [
    "## Cleaning Data"
   ]
  },
  {
   "cell_type": "code",
   "execution_count": 7,
   "metadata": {
    "pycharm": {
     "name": "#%%\n"
    }
   },
   "outputs": [],
   "source": [
    "# remove rows with null & negative value\n",
    "df = df_raw[((df_raw['Administrative_Duration'] >= 0) & (df_raw['Informational_Duration'] >= 0) & (df_raw['ProductRelated_Duration'] >= 0))].copy()"
   ]
  },
  {
   "cell_type": "markdown",
   "metadata": {},
   "source": [
    "## Data Preparation\n",
    "\n",
    "Including\n",
    "- binarization of columns\n",
    "- creating dummy variables from categorical columns\n",
    "- binning variables"
   ]
  },
  {
   "cell_type": "code",
   "execution_count": 8,
   "metadata": {
    "pycharm": {
     "name": "#%%\n"
    }
   },
   "outputs": [
    {
     "data": {
      "text/plain": [
       "6    3357\n",
       "7    2995\n",
       "5    1884\n",
       "1    1727\n",
       "8     549\n",
       "9     448\n",
       "0     433\n",
       "3     431\n",
       "4     288\n",
       "2     171\n",
       "Name: Month, dtype: int64"
      ]
     },
     "execution_count": 8,
     "metadata": {},
     "output_type": "execute_result"
    }
   ],
   "source": [
    "# From string to number\n",
    "df['Month']= df['Month'].astype('category').cat.codes\n",
    "df['Month'].value_counts()"
   ]
  },
  {
   "cell_type": "markdown",
   "metadata": {},
   "source": [
    "#### Binary Encoding"
   ]
  },
  {
   "cell_type": "code",
   "execution_count": 9,
   "metadata": {
    "pycharm": {
     "is_executing": false
    }
   },
   "outputs": [],
   "source": [
    "# Binary Encoding\n",
    "from sklearn.preprocessing import label_binarize\n",
    "\n",
    "# From Label to Boolean\n",
    "df['Revenue'] = label_binarize(df['Revenue'], classes=[False,True])\n",
    "df['Weekend'] = label_binarize(df['Weekend'], classes=[False,True])"
   ]
  },
  {
   "cell_type": "code",
   "execution_count": 10,
   "metadata": {},
   "outputs": [
    {
     "data": {
      "text/html": [
       "<div>\n",
       "<style scoped>\n",
       "    .dataframe tbody tr th:only-of-type {\n",
       "        vertical-align: middle;\n",
       "    }\n",
       "\n",
       "    .dataframe tbody tr th {\n",
       "        vertical-align: top;\n",
       "    }\n",
       "\n",
       "    .dataframe thead th {\n",
       "        text-align: right;\n",
       "    }\n",
       "</style>\n",
       "<table border=\"1\" class=\"dataframe\">\n",
       "  <thead>\n",
       "    <tr style=\"text-align: right;\">\n",
       "      <th></th>\n",
       "      <th>Revenue</th>\n",
       "      <th>Weekend</th>\n",
       "    </tr>\n",
       "  </thead>\n",
       "  <tbody>\n",
       "    <tr>\n",
       "      <th>12325</th>\n",
       "      <td>False</td>\n",
       "      <td>True</td>\n",
       "    </tr>\n",
       "    <tr>\n",
       "      <th>12326</th>\n",
       "      <td>False</td>\n",
       "      <td>True</td>\n",
       "    </tr>\n",
       "    <tr>\n",
       "      <th>12327</th>\n",
       "      <td>False</td>\n",
       "      <td>True</td>\n",
       "    </tr>\n",
       "    <tr>\n",
       "      <th>12328</th>\n",
       "      <td>False</td>\n",
       "      <td>False</td>\n",
       "    </tr>\n",
       "    <tr>\n",
       "      <th>12329</th>\n",
       "      <td>False</td>\n",
       "      <td>True</td>\n",
       "    </tr>\n",
       "  </tbody>\n",
       "</table>\n",
       "</div>"
      ],
      "text/plain": [
       "       Revenue  Weekend\n",
       "12325    False     True\n",
       "12326    False     True\n",
       "12327    False     True\n",
       "12328    False    False\n",
       "12329    False     True"
      ]
     },
     "execution_count": 10,
     "metadata": {},
     "output_type": "execute_result"
    }
   ],
   "source": [
    "df_raw[['Revenue', 'Weekend']].tail()"
   ]
  },
  {
   "cell_type": "markdown",
   "metadata": {},
   "source": [
    "#### Create Boolean Cols from Cardinal"
   ]
  },
  {
   "cell_type": "code",
   "execution_count": 11,
   "metadata": {
    "pycharm": {
     "name": "#%%\n"
    }
   },
   "outputs": [],
   "source": [
    "# Boolean - Visited the type of page\n",
    "df['Administrative_Visited'] = np.where(df['Administrative'] > 1, 1,0)\n",
    "df['Informational_Visited'] = np.where(df['Informational'] > 1, 1,0)\n",
    "df['ProductRelated_Visited'] = np.where(df['ProductRelated'] > 1, 1,0)"
   ]
  },
  {
   "cell_type": "code",
   "execution_count": 12,
   "metadata": {},
   "outputs": [],
   "source": [
    "df['IsSpecialDate'] = np.where(df['SpecialDay'] > 1, 1,0)"
   ]
  },
  {
   "cell_type": "markdown",
   "metadata": {},
   "source": [
    "#### Binning\n",
    "Create intervals and merge one with low count of values"
   ]
  },
  {
   "cell_type": "code",
   "execution_count": 13,
   "metadata": {},
   "outputs": [
    {
     "data": {
      "text/plain": [
       " 0    8189\n",
       " 1    2255\n",
       " 2    1057\n",
       " 3     483\n",
       " 4     186\n",
       " 5      78\n",
       " 6      20\n",
       " 7       9\n",
       "-1       6\n",
       "Name: Administrative_Bins, dtype: int64"
      ]
     },
     "execution_count": 13,
     "metadata": {},
     "output_type": "execute_result"
    }
   ],
   "source": [
    "# Administrative\n",
    "column_name = 'Administrative'\n",
    "interval_step = 3\n",
    "new_column_name = column_name + '_Bins'\n",
    "interval = range(0, int(max(df[column_name])), interval_step)\n",
    "max_number_of_intervals =  10\n",
    "\n",
    "# Create Column\n",
    "df[new_column_name] = pd.cut(df[column_name], interval, right=False)\n",
    "df[new_column_name] = df[new_column_name].astype('category').cat.codes\n",
    "df.loc[(df[new_column_name].astype('category').cat.codes >= max_number_of_intervals),new_column_name] = max_number_of_intervals\n",
    "df[new_column_name].value_counts()"
   ]
  },
  {
   "cell_type": "code",
   "execution_count": 14,
   "metadata": {},
   "outputs": [
    {
     "data": {
      "text/plain": [
       " 0     8235\n",
       " 1     2329\n",
       " 2      826\n",
       " 3      380\n",
       " 4      201\n",
       " 5      120\n",
       " 10      70\n",
       " 6       53\n",
       " 7       46\n",
       " 8       22\n",
       "-1        1\n",
       "Name: ProductRelated_Bins, dtype: int64"
      ]
     },
     "execution_count": 14,
     "metadata": {},
     "output_type": "execute_result"
    }
   ],
   "source": [
    "# ProductRelated\n",
    "column_name = 'ProductRelated'\n",
    "interval_step = 30\n",
    "new_column_name = column_name + '_Bins'\n",
    "interval = range(0, int(max(df[column_name])), interval_step)\n",
    "max_number_of_intervals =  10\n",
    "\n",
    "# Create Column\n",
    "df[new_column_name] = pd.cut(df[column_name], interval, right=False)\n",
    "df[new_column_name] = df[new_column_name].astype('category').cat.codes\n",
    "df.loc[(df[new_column_name].astype('category').cat.codes >= max_number_of_intervals),new_column_name] = max_number_of_intervals\n",
    "df[new_column_name].value_counts()"
   ]
  },
  {
   "cell_type": "markdown",
   "metadata": {},
   "source": [
    "#### Create dummy columns\n",
    "Drop is manual, because we often want to keep the first column and drop the last one, which is often group of nonlabeled elements ('Others')."
   ]
  },
  {
   "cell_type": "code",
   "execution_count": 15,
   "metadata": {
    "pycharm": {
     "name": "#%%\n"
    }
   },
   "outputs": [
    {
     "data": {
      "text/plain": [
       "array(['Returning_Visitor', 'New_Visitor', 'Other'], dtype=object)"
      ]
     },
     "execution_count": 15,
     "metadata": {},
     "output_type": "execute_result"
    }
   ],
   "source": [
    "df.VisitorType.unique()"
   ]
  },
  {
   "cell_type": "code",
   "execution_count": 16,
   "metadata": {
    "pycharm": {
     "name": "#%%\n"
    }
   },
   "outputs": [],
   "source": [
    "df = pd.get_dummies(df, columns=['VisitorType'], drop_first=False)\n",
    "df = df.drop(['VisitorType_Other'],axis=1)"
   ]
  },
  {
   "cell_type": "code",
   "execution_count": 17,
   "metadata": {},
   "outputs": [],
   "source": [
    "df = pd.get_dummies(df, columns=['TrafficType'], drop_first=False)\n",
    "df = df.drop(['TrafficType_20'],axis=1)"
   ]
  },
  {
   "cell_type": "code",
   "execution_count": 18,
   "metadata": {},
   "outputs": [],
   "source": [
    "df = pd.get_dummies(df, columns=['OperatingSystems'], drop_first=False)\n",
    "df = df.drop(['OperatingSystems_8'],axis=1)"
   ]
  },
  {
   "cell_type": "code",
   "execution_count": 19,
   "metadata": {},
   "outputs": [],
   "source": [
    "df = pd.get_dummies(df, columns=['Browser'], drop_first=False)\n",
    "df = df.drop(['Browser_13'],axis=1)"
   ]
  },
  {
   "cell_type": "code",
   "execution_count": 20,
   "metadata": {},
   "outputs": [],
   "source": [
    "df = pd.get_dummies(df, columns=['Region'], drop_first=False)\n",
    "df = df.drop(['Region_9'],axis=1)"
   ]
  },
  {
   "cell_type": "code",
   "execution_count": 21,
   "metadata": {},
   "outputs": [
    {
     "data": {
      "text/plain": [
       "array([dtype('float64'), dtype('int8'), dtype('int64'), dtype('uint8')],\n",
       "      dtype=object)"
      ]
     },
     "execution_count": 21,
     "metadata": {},
     "output_type": "execute_result"
    }
   ],
   "source": [
    "df.dtypes.unique()"
   ]
  },
  {
   "cell_type": "code",
   "execution_count": 22,
   "metadata": {},
   "outputs": [
    {
     "data": {
      "text/plain": [
       "Index(['Administrative', 'Administrative_Duration', 'Informational',\n",
       "       'Informational_Duration', 'ProductRelated', 'ProductRelated_Duration',\n",
       "       'BounceRates', 'ExitRates', 'PageValues', 'SpecialDay', 'Month',\n",
       "       'Weekend', 'Revenue', 'Administrative_Visited', 'Informational_Visited',\n",
       "       'ProductRelated_Visited', 'IsSpecialDate', 'Administrative_Bins',\n",
       "       'ProductRelated_Bins', 'VisitorType_New_Visitor',\n",
       "       'VisitorType_Returning_Visitor', 'TrafficType_1', 'TrafficType_2',\n",
       "       'TrafficType_3', 'TrafficType_4', 'TrafficType_5', 'TrafficType_6',\n",
       "       'TrafficType_7', 'TrafficType_8', 'TrafficType_9', 'TrafficType_10',\n",
       "       'TrafficType_11', 'TrafficType_12', 'TrafficType_13', 'TrafficType_14',\n",
       "       'TrafficType_15', 'TrafficType_16', 'TrafficType_17', 'TrafficType_18',\n",
       "       'TrafficType_19', 'OperatingSystems_1', 'OperatingSystems_2',\n",
       "       'OperatingSystems_3', 'OperatingSystems_4', 'OperatingSystems_5',\n",
       "       'OperatingSystems_6', 'OperatingSystems_7', 'Browser_1', 'Browser_2',\n",
       "       'Browser_3', 'Browser_4', 'Browser_5', 'Browser_6', 'Browser_7',\n",
       "       'Browser_8', 'Browser_9', 'Browser_10', 'Browser_11', 'Browser_12',\n",
       "       'Region_1', 'Region_2', 'Region_3', 'Region_4', 'Region_5', 'Region_6',\n",
       "       'Region_7', 'Region_8'],\n",
       "      dtype='object')"
      ]
     },
     "execution_count": 22,
     "metadata": {},
     "output_type": "execute_result"
    }
   ],
   "source": [
    "# All columns in the prepared dataset\n",
    "df.columns"
   ]
  },
  {
   "cell_type": "markdown",
   "metadata": {},
   "source": [
    "## Test Train Split"
   ]
  },
  {
   "cell_type": "markdown",
   "metadata": {},
   "source": [
    "We see that the class ratio is unbalanced more than 5:1 for the customer which haven't generated any revenue.  We should use the method of stratification to make sure that classes in both train and test sets are in same ratio."
   ]
  },
  {
   "cell_type": "code",
   "execution_count": 23,
   "metadata": {
    "pycharm": {
     "name": "#%%\n"
    }
   },
   "outputs": [
    {
     "data": {
      "text/plain": [
       "0    10375\n",
       "1     1908\n",
       "Name: Revenue, dtype: int64"
      ]
     },
     "execution_count": 23,
     "metadata": {},
     "output_type": "execute_result"
    }
   ],
   "source": [
    "df[TARGET_VARIABLE].value_counts()"
   ]
  },
  {
   "cell_type": "code",
   "execution_count": 24,
   "metadata": {},
   "outputs": [],
   "source": [
    "X = df.drop(labels=[TARGET_VARIABLE], axis=1)\n",
    "y = df[TARGET_VARIABLE]"
   ]
  },
  {
   "cell_type": "code",
   "execution_count": 25,
   "metadata": {
    "pycharm": {
     "name": "#%%\n"
    }
   },
   "outputs": [],
   "source": [
    "from sklearn.model_selection import train_test_split\n",
    "\n",
    "X_train,X_test,y_train,y_test = train_test_split(X, y, test_size=TEST_SIZE, \n",
    "                          random_state=RANDOM_STATE\n",
    "                          # Stratified by Target var to keep ratios\n",
    "                          ,stratify=y)"
   ]
  },
  {
   "cell_type": "markdown",
   "metadata": {},
   "source": [
    "## Metrics - Evaluation Matrix\n",
    "### Metrics\n",
    "- Recall - most important in our case\n",
    "- Precision\n",
    "- F1 Score"
   ]
  },
  {
   "cell_type": "markdown",
   "metadata": {},
   "source": [
    "Hence the Y variable has a high class imbalance, accuracy will not be a reliable model performance measure.\n",
    "\n",
    "FN is very critical for this business case because a false negative is a customer who will potentially buy something on the website but who has been classified as 'will not buy'. Hence the most relevant model performance measure is recall for Revenue = 1."
   ]
  },
  {
   "cell_type": "markdown",
   "metadata": {},
   "source": [
    "#### Prepare CV object for evaluation model"
   ]
  },
  {
   "cell_type": "code",
   "execution_count": 26,
   "metadata": {},
   "outputs": [],
   "source": [
    "from sklearn.model_selection import cross_val_score, StratifiedKFold\n",
    "\n",
    "# Create Split For CV with same ratios of classes in sets\n",
    "strat_kfold = StratifiedKFold(n_splits=5, shuffle=False, random_state=RANDOM_STATE)"
   ]
  },
  {
   "cell_type": "markdown",
   "metadata": {},
   "source": [
    "### Prepare matrix for saving model results"
   ]
  },
  {
   "cell_type": "code",
   "execution_count": 27,
   "metadata": {},
   "outputs": [],
   "source": [
    "from sklearn.metrics import accuracy_score, recall_score, precision_score, fbeta_score, roc_auc_score"
   ]
  },
  {
   "cell_type": "code",
   "execution_count": 28,
   "metadata": {},
   "outputs": [],
   "source": [
    "from sklearn.metrics import classification_report, confusion_matrix"
   ]
  },
  {
   "cell_type": "code",
   "execution_count": 29,
   "metadata": {},
   "outputs": [],
   "source": [
    "evaluation_matrix_columns = ['Model',\n",
    "                             'EvaluationInfo',\n",
    "                             'AreaUnderCurve',\n",
    "                             'Accuracy',\n",
    "                             'False_Precision',\n",
    "                             'True_Precision',\n",
    "                             'True_Recall',\n",
    "                             'True_Recall_CV',\n",
    "                             'True_F1_Score']\n",
    "\n",
    "evaluation_matrix = pd.DataFrame(columns = evaluation_matrix_columns)"
   ]
  },
  {
   "cell_type": "code",
   "execution_count": 30,
   "metadata": {},
   "outputs": [],
   "source": [
    "# Evaluate Model and Add results to the matrix\n",
    "def evaluate_model(model, y_test, y_pred, evaluation_info=''):\n",
    "    global evaluation_matrix\n",
    "    float_precision = 3\n",
    "    total_accuracy  = round(100 * accuracy_score(y_test, y_pred), float_precision)\n",
    "    false_precision = round(100 * precision_score(y_test,y_pred, pos_label=0, average='binary'), float_precision)\n",
    "    true_precision  = round(100 * precision_score(y_test,y_pred, pos_label=1, average='binary'), float_precision)\n",
    "    true_recall     = round(100 * recall_score(y_test,y_pred, pos_label=1, average='binary'), float_precision)\n",
    "    true_recall_cv  = np.nan if isinstance(model, str) else round(100 * cross_val_score(model, X, y, cv=strat_kfold, scoring='recall').mean(), float_precision) \n",
    "    AUC  = np.nan if isinstance(model, str) else round(100 * cross_val_score(model, X, y, cv=strat_kfold, scoring='roc_auc').mean(), float_precision)\n",
    "    #AUC     = round(roc_auc_score(y_test,y_pred), float_precision)\n",
    "    true_f1_beta    = round(100 * fbeta_score(y_test, y_pred, beta=1.5), float_precision)\n",
    "    \n",
    "    model_evaluation_dict = {'Model': model if isinstance(model, str) else model.__class__.__name__,\n",
    "                             'EvaluationInfo':evaluation_info,\n",
    "                             'AreaUnderCurve': AUC,\n",
    "                             'Accuracy':total_accuracy,\n",
    "                             'False_Precision':false_precision,\n",
    "                             'True_Precision':true_precision,\n",
    "                             'True_Recall':true_recall,\n",
    "                             'True_Recall_CV': true_recall_cv,\n",
    "                             'True_F1_Score':true_f1_beta}\n",
    "    evaluation_matrix = evaluation_matrix.append(model_evaluation_dict, ignore_index=True)"
   ]
  },
  {
   "cell_type": "code",
   "execution_count": 31,
   "metadata": {},
   "outputs": [
    {
     "data": {
      "text/html": [
       "<div>\n",
       "<style scoped>\n",
       "    .dataframe tbody tr th:only-of-type {\n",
       "        vertical-align: middle;\n",
       "    }\n",
       "\n",
       "    .dataframe tbody tr th {\n",
       "        vertical-align: top;\n",
       "    }\n",
       "\n",
       "    .dataframe thead th {\n",
       "        text-align: right;\n",
       "    }\n",
       "</style>\n",
       "<table border=\"1\" class=\"dataframe\">\n",
       "  <thead>\n",
       "    <tr style=\"text-align: right;\">\n",
       "      <th></th>\n",
       "      <th>Model</th>\n",
       "      <th>EvaluationInfo</th>\n",
       "      <th>AreaUnderCurve</th>\n",
       "      <th>Accuracy</th>\n",
       "      <th>False_Precision</th>\n",
       "      <th>True_Precision</th>\n",
       "      <th>True_Recall</th>\n",
       "      <th>True_Recall_CV</th>\n",
       "      <th>True_F1_Score</th>\n",
       "    </tr>\n",
       "  </thead>\n",
       "  <tbody>\n",
       "  </tbody>\n",
       "</table>\n",
       "</div>"
      ],
      "text/plain": [
       "Empty DataFrame\n",
       "Columns: [Model, EvaluationInfo, AreaUnderCurve, Accuracy, False_Precision, True_Precision, True_Recall, True_Recall_CV, True_F1_Score]\n",
       "Index: []"
      ]
     },
     "execution_count": 31,
     "metadata": {},
     "output_type": "execute_result"
    }
   ],
   "source": [
    "evaluation_matrix"
   ]
  },
  {
   "cell_type": "markdown",
   "metadata": {},
   "source": [
    "# Baseline Model\n",
    "Serve as a basic benchmark for our more clever models."
   ]
  },
  {
   "cell_type": "markdown",
   "metadata": {},
   "source": [
    "## Dummy Classifier\n",
    "- Most basic models that are used as a baseline models for the clasification."
   ]
  },
  {
   "cell_type": "markdown",
   "metadata": {},
   "source": [
    "### Most Frequent\n",
    "- Is taking most frequent class for prediction"
   ]
  },
  {
   "cell_type": "code",
   "execution_count": 32,
   "metadata": {},
   "outputs": [],
   "source": [
    "from sklearn.dummy import DummyClassifier\n",
    "\n",
    "\n",
    "dummy_clf_mf = DummyClassifier(strategy=\"most_frequent\")\n",
    "dummy_clf_mf.fit(X, y)\n",
    "y_pred = dummy_clf_mf.predict(X_test)"
   ]
  },
  {
   "cell_type": "code",
   "execution_count": 33,
   "metadata": {},
   "outputs": [
    {
     "name": "stdout",
     "output_type": "stream",
     "text": [
      "              precision    recall  f1-score   support\n",
      "\n",
      "           0       0.84      1.00      0.92      3113\n",
      "           1       0.00      0.00      0.00       572\n",
      "\n",
      "    accuracy                           0.84      3685\n",
      "   macro avg       0.42      0.50      0.46      3685\n",
      "weighted avg       0.71      0.84      0.77      3685\n",
      "\n"
     ]
    }
   ],
   "source": [
    "evaluate_model(dummy_clf_mf,y_test,y_pred,'most_frequent')\n",
    "print(classification_report(y_test, y_pred))"
   ]
  },
  {
   "cell_type": "markdown",
   "metadata": {},
   "source": [
    "### Stratified\n",
    "- Keep the ratio of classes "
   ]
  },
  {
   "cell_type": "code",
   "execution_count": 34,
   "metadata": {},
   "outputs": [
    {
     "name": "stdout",
     "output_type": "stream",
     "text": [
      "              precision    recall  f1-score   support\n",
      "\n",
      "           0       0.84      0.84      0.84      3113\n",
      "           1       0.12      0.12      0.12       572\n",
      "\n",
      "    accuracy                           0.73      3685\n",
      "   macro avg       0.48      0.48      0.48      3685\n",
      "weighted avg       0.73      0.73      0.73      3685\n",
      "\n"
     ]
    }
   ],
   "source": [
    "dummy_clf_st = DummyClassifier(strategy=\"stratified\", random_state=RANDOM_STATE)\n",
    "dummy_clf_st.fit(X, y)\n",
    "y_pred = dummy_clf_st.predict(X_test)\n",
    "\n",
    "evaluate_model(dummy_clf_st,y_test,y_pred,'stratified')\n",
    "print(classification_report(y_test, y_pred))"
   ]
  },
  {
   "cell_type": "code",
   "execution_count": 35,
   "metadata": {},
   "outputs": [
    {
     "data": {
      "text/html": [
       "<div>\n",
       "<style scoped>\n",
       "    .dataframe tbody tr th:only-of-type {\n",
       "        vertical-align: middle;\n",
       "    }\n",
       "\n",
       "    .dataframe tbody tr th {\n",
       "        vertical-align: top;\n",
       "    }\n",
       "\n",
       "    .dataframe thead th {\n",
       "        text-align: right;\n",
       "    }\n",
       "</style>\n",
       "<table border=\"1\" class=\"dataframe\">\n",
       "  <thead>\n",
       "    <tr style=\"text-align: right;\">\n",
       "      <th></th>\n",
       "      <th>Model</th>\n",
       "      <th>EvaluationInfo</th>\n",
       "      <th>AreaUnderCurve</th>\n",
       "      <th>Accuracy</th>\n",
       "      <th>False_Precision</th>\n",
       "      <th>True_Precision</th>\n",
       "      <th>True_Recall</th>\n",
       "      <th>True_Recall_CV</th>\n",
       "      <th>True_F1_Score</th>\n",
       "    </tr>\n",
       "  </thead>\n",
       "  <tbody>\n",
       "    <tr>\n",
       "      <th>0</th>\n",
       "      <td>DummyClassifier</td>\n",
       "      <td>most_frequent</td>\n",
       "      <td>50.000</td>\n",
       "      <td>84.478</td>\n",
       "      <td>84.478</td>\n",
       "      <td>0.000</td>\n",
       "      <td>0.000</td>\n",
       "      <td>0.000</td>\n",
       "      <td>0.00</td>\n",
       "    </tr>\n",
       "    <tr>\n",
       "      <th>1</th>\n",
       "      <td>DummyClassifier</td>\n",
       "      <td>stratified</td>\n",
       "      <td>50.326</td>\n",
       "      <td>72.619</td>\n",
       "      <td>83.783</td>\n",
       "      <td>11.734</td>\n",
       "      <td>11.713</td>\n",
       "      <td>16.142</td>\n",
       "      <td>11.72</td>\n",
       "    </tr>\n",
       "  </tbody>\n",
       "</table>\n",
       "</div>"
      ],
      "text/plain": [
       "             Model EvaluationInfo  AreaUnderCurve  Accuracy  False_Precision  \\\n",
       "0  DummyClassifier  most_frequent          50.000    84.478           84.478   \n",
       "1  DummyClassifier     stratified          50.326    72.619           83.783   \n",
       "\n",
       "   True_Precision  True_Recall  True_Recall_CV  True_F1_Score  \n",
       "0           0.000        0.000           0.000           0.00  \n",
       "1          11.734       11.713          16.142          11.72  "
      ]
     },
     "execution_count": 35,
     "metadata": {},
     "output_type": "execute_result"
    }
   ],
   "source": [
    "evaluation_matrix.tail(2)"
   ]
  },
  {
   "cell_type": "markdown",
   "metadata": {},
   "source": [
    "### Baseline model Evaluation\n",
    "We can see that in terms of accuracy, both models are not doing a bad job. And thats why we need to keep eye on the metric we are using for evaluation.\n",
    "- We see that first baseline model is utterly useless, because it classified that any customer will buy on our website.\n",
    "- Stratified strategy has take into mind the ratio between target class labels. Because the classes are so imbalanced, precision and recall for Revenue = 0 is relatively high. But we would like to find the customers with intent to buy something, in that case recall and precision for Revenue = 1 is pretty low."
   ]
  },
  {
   "cell_type": "markdown",
   "metadata": {},
   "source": [
    "# Clasification Models"
   ]
  },
  {
   "cell_type": "markdown",
   "metadata": {},
   "source": [
    "## Decision Tree Classifier"
   ]
  },
  {
   "cell_type": "code",
   "execution_count": 36,
   "metadata": {
    "pycharm": {
     "name": "#%%\n"
    }
   },
   "outputs": [
    {
     "name": "stdout",
     "output_type": "stream",
     "text": [
      "              precision    recall  f1-score   support\n",
      "\n",
      "           0       0.92      0.91      0.91      3113\n",
      "           1       0.53      0.57      0.55       572\n",
      "\n",
      "    accuracy                           0.86      3685\n",
      "   macro avg       0.73      0.74      0.73      3685\n",
      "weighted avg       0.86      0.86      0.86      3685\n",
      "\n"
     ]
    }
   ],
   "source": [
    "# Train\n",
    "from sklearn.tree import DecisionTreeClassifier\n",
    "dtree = DecisionTreeClassifier(criterion='gini', splitter='best', random_state=RANDOM_STATE)\n",
    "dtree.fit(X_train, y_train)\n",
    "\n",
    "# Test\n",
    "y_pred = dtree.predict(X_test)\n",
    "evaluate_model(dtree,y_test,y_pred,'gini')\n",
    "print(classification_report(y_test, y_pred))"
   ]
  },
  {
   "cell_type": "code",
   "execution_count": 37,
   "metadata": {},
   "outputs": [
    {
     "data": {
      "text/html": [
       "<div>\n",
       "<style scoped>\n",
       "    .dataframe tbody tr th:only-of-type {\n",
       "        vertical-align: middle;\n",
       "    }\n",
       "\n",
       "    .dataframe tbody tr th {\n",
       "        vertical-align: top;\n",
       "    }\n",
       "\n",
       "    .dataframe thead th {\n",
       "        text-align: right;\n",
       "    }\n",
       "</style>\n",
       "<table border=\"1\" class=\"dataframe\">\n",
       "  <thead>\n",
       "    <tr style=\"text-align: right;\">\n",
       "      <th></th>\n",
       "      <th>Model</th>\n",
       "      <th>EvaluationInfo</th>\n",
       "      <th>AreaUnderCurve</th>\n",
       "      <th>Accuracy</th>\n",
       "      <th>False_Precision</th>\n",
       "      <th>True_Precision</th>\n",
       "      <th>True_Recall</th>\n",
       "      <th>True_Recall_CV</th>\n",
       "      <th>True_F1_Score</th>\n",
       "    </tr>\n",
       "  </thead>\n",
       "  <tbody>\n",
       "    <tr>\n",
       "      <th>2</th>\n",
       "      <td>DecisionTreeClassifier</td>\n",
       "      <td>gini</td>\n",
       "      <td>72.494</td>\n",
       "      <td>85.617</td>\n",
       "      <td>91.945</td>\n",
       "      <td>53.465</td>\n",
       "      <td>56.643</td>\n",
       "      <td>55.186</td>\n",
       "      <td>55.626</td>\n",
       "    </tr>\n",
       "  </tbody>\n",
       "</table>\n",
       "</div>"
      ],
      "text/plain": [
       "                    Model EvaluationInfo  AreaUnderCurve  Accuracy  \\\n",
       "2  DecisionTreeClassifier           gini          72.494    85.617   \n",
       "\n",
       "   False_Precision  True_Precision  True_Recall  True_Recall_CV  True_F1_Score  \n",
       "2           91.945          53.465       56.643          55.186         55.626  "
      ]
     },
     "execution_count": 37,
     "metadata": {},
     "output_type": "execute_result"
    }
   ],
   "source": [
    "evaluation_matrix.tail(1)"
   ]
  },
  {
   "cell_type": "markdown",
   "metadata": {},
   "source": [
    "## Random Forest Classifier\n",
    "As we tried the Decision Tree model, we could also use it's ensemble version Random Forest. We don't want to rely on default parameters, so we will let the grid search select the parameters for us."
   ]
  },
  {
   "cell_type": "code",
   "execution_count": 38,
   "metadata": {},
   "outputs": [],
   "source": [
    "from sklearn.ensemble import RandomForestClassifier"
   ]
  },
  {
   "cell_type": "markdown",
   "metadata": {},
   "source": [
    "## GridSearch - RF"
   ]
  },
  {
   "cell_type": "code",
   "execution_count": 39,
   "metadata": {},
   "outputs": [
    {
     "data": {
      "text/plain": [
       "GridSearchCV(cv=StratifiedKFold(n_splits=10, random_state=None, shuffle=False),\n",
       "             error_score=nan,\n",
       "             estimator=RandomForestClassifier(bootstrap=True, ccp_alpha=0.0,\n",
       "                                              class_weight=None,\n",
       "                                              criterion='gini', max_depth=None,\n",
       "                                              max_features='auto',\n",
       "                                              max_leaf_nodes=None,\n",
       "                                              max_samples=None,\n",
       "                                              min_impurity_decrease=0.0,\n",
       "                                              min_impurity_split=None,\n",
       "                                              min_samples_leaf=1,\n",
       "                                              min_samples_split=2,\n",
       "                                              min_weight_fraction_leaf=0.0,\n",
       "                                              n_estimators=100, n_jobs=None,\n",
       "                                              oob_score=False, random_state=3,\n",
       "                                              verbose=0, warm_start=False),\n",
       "             iid='deprecated', n_jobs=-1,\n",
       "             param_grid={'bootstrap': [False, True],\n",
       "                         'criterion': ['gini', 'entropy'],\n",
       "                         'n_estimators': [50, 100, 250, 500, 1000]},\n",
       "             pre_dispatch='2*n_jobs', refit=True, return_train_score=False,\n",
       "             scoring='recall', verbose=0)"
      ]
     },
     "execution_count": 39,
     "metadata": {},
     "output_type": "execute_result"
    }
   ],
   "source": [
    "from sklearn.model_selection import GridSearchCV, StratifiedKFold\n",
    "\n",
    "# Cross-Validation\n",
    "cross_valid = StratifiedKFold(n_splits=10)\n",
    "\n",
    "# Parameters for Tuning\n",
    "n_estimators = [50,100, 250, 500, 1000]\n",
    "criterion = [\"gini\", \"entropy\"]\n",
    "bootstrap = [False,True]\n",
    "params = {\"n_estimators\":n_estimators, \"criterion\":criterion, \"bootstrap\":bootstrap}\n",
    "\n",
    "# Grid Search\n",
    "ran_forest = RandomForestClassifier(random_state=RANDOM_STATE)\n",
    "grid = GridSearchCV(estimator=ran_forest, param_grid=params, scoring='recall', n_jobs=-1, cv=cross_valid)\n",
    "grid.fit(X,y)"
   ]
  },
  {
   "cell_type": "code",
   "execution_count": 40,
   "metadata": {},
   "outputs": [
    {
     "name": "stdout",
     "output_type": "stream",
     "text": [
      "Model Parameters: {'bootstrap': False, 'criterion': 'gini', 'n_estimators': 250}\n",
      "Average Recall: 0.5224937999448884\n"
     ]
    }
   ],
   "source": [
    "print('Model Parameters:', grid.best_params_)\n",
    "print('Average Recall:' ,grid.best_score_)"
   ]
  },
  {
   "cell_type": "markdown",
   "metadata": {},
   "source": [
    "## Take best RF model"
   ]
  },
  {
   "cell_type": "code",
   "execution_count": 41,
   "metadata": {},
   "outputs": [
    {
     "name": "stdout",
     "output_type": "stream",
     "text": [
      "              precision    recall  f1-score   support\n",
      "\n",
      "           0       0.92      0.97      0.94      3113\n",
      "           1       0.78      0.51      0.62       572\n",
      "\n",
      "    accuracy                           0.90      3685\n",
      "   macro avg       0.85      0.74      0.78      3685\n",
      "weighted avg       0.89      0.90      0.89      3685\n",
      "\n"
     ]
    }
   ],
   "source": [
    "# Train\n",
    "# We take the best model from gridsearch\n",
    "ran_forest = grid.best_estimator_\n",
    "ran_forest.fit(X_train, y_train)\n",
    "\n",
    "# Test\n",
    "y_pred = ran_forest.predict(X_test)\n",
    "evaluate_model(ran_forest,y_test,y_pred,'n_estimators={}'.format(grid.best_params_['n_estimators']))\n",
    "print(classification_report(y_test, y_pred))"
   ]
  },
  {
   "cell_type": "code",
   "execution_count": 42,
   "metadata": {},
   "outputs": [
    {
     "data": {
      "text/html": [
       "<div>\n",
       "<style scoped>\n",
       "    .dataframe tbody tr th:only-of-type {\n",
       "        vertical-align: middle;\n",
       "    }\n",
       "\n",
       "    .dataframe tbody tr th {\n",
       "        vertical-align: top;\n",
       "    }\n",
       "\n",
       "    .dataframe thead th {\n",
       "        text-align: right;\n",
       "    }\n",
       "</style>\n",
       "<table border=\"1\" class=\"dataframe\">\n",
       "  <thead>\n",
       "    <tr style=\"text-align: right;\">\n",
       "      <th></th>\n",
       "      <th>Model</th>\n",
       "      <th>EvaluationInfo</th>\n",
       "      <th>AreaUnderCurve</th>\n",
       "      <th>Accuracy</th>\n",
       "      <th>False_Precision</th>\n",
       "      <th>True_Precision</th>\n",
       "      <th>True_Recall</th>\n",
       "      <th>True_Recall_CV</th>\n",
       "      <th>True_F1_Score</th>\n",
       "    </tr>\n",
       "  </thead>\n",
       "  <tbody>\n",
       "    <tr>\n",
       "      <th>3</th>\n",
       "      <td>RandomForestClassifier</td>\n",
       "      <td>n_estimators=250</td>\n",
       "      <td>90.542</td>\n",
       "      <td>90.176</td>\n",
       "      <td>91.594</td>\n",
       "      <td>77.778</td>\n",
       "      <td>51.399</td>\n",
       "      <td>53.612</td>\n",
       "      <td>57.387</td>\n",
       "    </tr>\n",
       "  </tbody>\n",
       "</table>\n",
       "</div>"
      ],
      "text/plain": [
       "                    Model    EvaluationInfo  AreaUnderCurve  Accuracy  \\\n",
       "3  RandomForestClassifier  n_estimators=250          90.542    90.176   \n",
       "\n",
       "   False_Precision  True_Precision  True_Recall  True_Recall_CV  True_F1_Score  \n",
       "3           91.594          77.778       51.399          53.612         57.387  "
      ]
     },
     "execution_count": 42,
     "metadata": {},
     "output_type": "execute_result"
    }
   ],
   "source": [
    "evaluation_matrix.tail(1)"
   ]
  },
  {
   "cell_type": "markdown",
   "metadata": {},
   "source": [
    "## Gradient Boosting Classifier"
   ]
  },
  {
   "cell_type": "markdown",
   "metadata": {},
   "source": [
    "We try another model base on decision trees. The two main differences to random forests are how trees are built: random forests builds each tree independently while gradient boosting builds one tree at a time. \n",
    "\n",
    "Second difference is how they combine results of the trees. Random forests combine results at the end of the process (by averaging or \"majority rules\") while gradient boosting combines results along the way.\n",
    "\n",
    "Lets take a look how this differences influence the results"
   ]
  },
  {
   "cell_type": "code",
   "execution_count": 43,
   "metadata": {
    "pycharm": {
     "name": "#%%\n"
    }
   },
   "outputs": [
    {
     "name": "stdout",
     "output_type": "stream",
     "text": [
      "              precision    recall  f1-score   support\n",
      "\n",
      "           0       0.92      0.97      0.95      3113\n",
      "           1       0.76      0.57      0.65       572\n",
      "\n",
      "    accuracy                           0.91      3685\n",
      "   macro avg       0.84      0.77      0.80      3685\n",
      "weighted avg       0.90      0.91      0.90      3685\n",
      "\n"
     ]
    }
   ],
   "source": [
    "# Train\n",
    "from sklearn.ensemble import GradientBoostingClassifier\n",
    "gbk = GradientBoostingClassifier(learning_rate=0.01, n_estimators=500,random_state=RANDOM_STATE)\n",
    "gbk.fit(X_train, y_train)\n",
    "\n",
    "# Test\n",
    "y_pred = gbk.predict(X_test)\n",
    "evaluate_model(gbk,y_test,y_pred,'n_estimators=500')\n",
    "print(classification_report(y_test, y_pred))"
   ]
  },
  {
   "cell_type": "code",
   "execution_count": 44,
   "metadata": {},
   "outputs": [
    {
     "data": {
      "text/html": [
       "<div>\n",
       "<style scoped>\n",
       "    .dataframe tbody tr th:only-of-type {\n",
       "        vertical-align: middle;\n",
       "    }\n",
       "\n",
       "    .dataframe tbody tr th {\n",
       "        vertical-align: top;\n",
       "    }\n",
       "\n",
       "    .dataframe thead th {\n",
       "        text-align: right;\n",
       "    }\n",
       "</style>\n",
       "<table border=\"1\" class=\"dataframe\">\n",
       "  <thead>\n",
       "    <tr style=\"text-align: right;\">\n",
       "      <th></th>\n",
       "      <th>Model</th>\n",
       "      <th>EvaluationInfo</th>\n",
       "      <th>AreaUnderCurve</th>\n",
       "      <th>Accuracy</th>\n",
       "      <th>False_Precision</th>\n",
       "      <th>True_Precision</th>\n",
       "      <th>True_Recall</th>\n",
       "      <th>True_Recall_CV</th>\n",
       "      <th>True_F1_Score</th>\n",
       "    </tr>\n",
       "  </thead>\n",
       "  <tbody>\n",
       "    <tr>\n",
       "      <th>4</th>\n",
       "      <td>GradientBoostingClassifier</td>\n",
       "      <td>n_estimators=500</td>\n",
       "      <td>91.552</td>\n",
       "      <td>90.556</td>\n",
       "      <td>92.473</td>\n",
       "      <td>76.047</td>\n",
       "      <td>57.168</td>\n",
       "      <td>57.02</td>\n",
       "      <td>61.896</td>\n",
       "    </tr>\n",
       "  </tbody>\n",
       "</table>\n",
       "</div>"
      ],
      "text/plain": [
       "                        Model    EvaluationInfo  AreaUnderCurve  Accuracy  \\\n",
       "4  GradientBoostingClassifier  n_estimators=500          91.552    90.556   \n",
       "\n",
       "   False_Precision  True_Precision  True_Recall  True_Recall_CV  True_F1_Score  \n",
       "4           92.473          76.047       57.168           57.02         61.896  "
      ]
     },
     "execution_count": 44,
     "metadata": {},
     "output_type": "execute_result"
    }
   ],
   "source": [
    "evaluation_matrix.tail(1)"
   ]
  },
  {
   "cell_type": "markdown",
   "metadata": {},
   "source": [
    "We can see the improvement on the recall value."
   ]
  },
  {
   "cell_type": "markdown",
   "metadata": {},
   "source": [
    "## GaussianNB"
   ]
  },
  {
   "cell_type": "code",
   "execution_count": 45,
   "metadata": {
    "pycharm": {
     "name": "#%%\n"
    }
   },
   "outputs": [
    {
     "name": "stdout",
     "output_type": "stream",
     "text": [
      "              precision    recall  f1-score   support\n",
      "\n",
      "           0       0.93      0.76      0.84      3113\n",
      "           1       0.34      0.66      0.45       572\n",
      "\n",
      "    accuracy                           0.75      3685\n",
      "   macro avg       0.63      0.71      0.64      3685\n",
      "weighted avg       0.83      0.75      0.78      3685\n",
      "\n"
     ]
    }
   ],
   "source": [
    "# Train\n",
    "from sklearn.naive_bayes import GaussianNB\n",
    "gaussiannb= GaussianNB()\n",
    "gaussiannb.fit(X_train, y_train)\n",
    "\n",
    "# Test\n",
    "y_pred = gaussiannb.predict(X_test)\n",
    "evaluate_model(gaussiannb,y_test,y_pred,'')\n",
    "print(classification_report(y_test, y_pred))"
   ]
  },
  {
   "cell_type": "code",
   "execution_count": 46,
   "metadata": {},
   "outputs": [
    {
     "data": {
      "text/html": [
       "<div>\n",
       "<style scoped>\n",
       "    .dataframe tbody tr th:only-of-type {\n",
       "        vertical-align: middle;\n",
       "    }\n",
       "\n",
       "    .dataframe tbody tr th {\n",
       "        vertical-align: top;\n",
       "    }\n",
       "\n",
       "    .dataframe thead th {\n",
       "        text-align: right;\n",
       "    }\n",
       "</style>\n",
       "<table border=\"1\" class=\"dataframe\">\n",
       "  <thead>\n",
       "    <tr style=\"text-align: right;\">\n",
       "      <th></th>\n",
       "      <th>Model</th>\n",
       "      <th>EvaluationInfo</th>\n",
       "      <th>AreaUnderCurve</th>\n",
       "      <th>Accuracy</th>\n",
       "      <th>False_Precision</th>\n",
       "      <th>True_Precision</th>\n",
       "      <th>True_Recall</th>\n",
       "      <th>True_Recall_CV</th>\n",
       "      <th>True_F1_Score</th>\n",
       "    </tr>\n",
       "  </thead>\n",
       "  <tbody>\n",
       "    <tr>\n",
       "      <th>5</th>\n",
       "      <td>GaussianNB</td>\n",
       "      <td></td>\n",
       "      <td>77.73</td>\n",
       "      <td>74.898</td>\n",
       "      <td>92.502</td>\n",
       "      <td>34.113</td>\n",
       "      <td>66.259</td>\n",
       "      <td>66.938</td>\n",
       "      <td>51.366</td>\n",
       "    </tr>\n",
       "  </tbody>\n",
       "</table>\n",
       "</div>"
      ],
      "text/plain": [
       "        Model EvaluationInfo  AreaUnderCurve  Accuracy  False_Precision  \\\n",
       "5  GaussianNB                          77.73    74.898           92.502   \n",
       "\n",
       "   True_Precision  True_Recall  True_Recall_CV  True_F1_Score  \n",
       "5          34.113       66.259          66.938         51.366  "
      ]
     },
     "execution_count": 46,
     "metadata": {},
     "output_type": "execute_result"
    }
   ],
   "source": [
    "evaluation_matrix.tail(1)"
   ]
  },
  {
   "cell_type": "markdown",
   "metadata": {},
   "source": [
    "Gaussian Naive Bayes is doing well in terms of recall. The model is including 2/3 of all paying customers, but there is a huge trade off for precision."
   ]
  },
  {
   "cell_type": "markdown",
   "metadata": {},
   "source": [
    "## Logistic Regression"
   ]
  },
  {
   "cell_type": "code",
   "execution_count": 47,
   "metadata": {
    "pycharm": {
     "name": "#%%\n"
    }
   },
   "outputs": [
    {
     "name": "stdout",
     "output_type": "stream",
     "text": [
      "              precision    recall  f1-score   support\n",
      "\n",
      "           0       0.89      0.98      0.93      3113\n",
      "           1       0.76      0.35      0.48       572\n",
      "\n",
      "    accuracy                           0.88      3685\n",
      "   macro avg       0.83      0.66      0.71      3685\n",
      "weighted avg       0.87      0.88      0.86      3685\n",
      "\n"
     ]
    }
   ],
   "source": [
    "# Train\n",
    "from sklearn.linear_model import LogisticRegression\n",
    "logmodel = LogisticRegression(solver='liblinear', C=19.1, penalty='l1',random_state=RANDOM_STATE)\n",
    "logmodel.fit(X_train, y_train)\n",
    "\n",
    "# Test\n",
    "y_pred = logmodel.predict(X_test)\n",
    "evaluate_model(logmodel,y_test,y_pred,'C=19.1, penalty=l1')\n",
    "print(classification_report(y_test,y_pred))"
   ]
  },
  {
   "cell_type": "code",
   "execution_count": 48,
   "metadata": {},
   "outputs": [
    {
     "data": {
      "text/html": [
       "<div>\n",
       "<style scoped>\n",
       "    .dataframe tbody tr th:only-of-type {\n",
       "        vertical-align: middle;\n",
       "    }\n",
       "\n",
       "    .dataframe tbody tr th {\n",
       "        vertical-align: top;\n",
       "    }\n",
       "\n",
       "    .dataframe thead th {\n",
       "        text-align: right;\n",
       "    }\n",
       "</style>\n",
       "<table border=\"1\" class=\"dataframe\">\n",
       "  <thead>\n",
       "    <tr style=\"text-align: right;\">\n",
       "      <th></th>\n",
       "      <th>Model</th>\n",
       "      <th>EvaluationInfo</th>\n",
       "      <th>AreaUnderCurve</th>\n",
       "      <th>Accuracy</th>\n",
       "      <th>False_Precision</th>\n",
       "      <th>True_Precision</th>\n",
       "      <th>True_Recall</th>\n",
       "      <th>True_Recall_CV</th>\n",
       "      <th>True_F1_Score</th>\n",
       "    </tr>\n",
       "  </thead>\n",
       "  <tbody>\n",
       "    <tr>\n",
       "      <th>6</th>\n",
       "      <td>LogisticRegression</td>\n",
       "      <td>C=19.1, penalty=l1</td>\n",
       "      <td>86.929</td>\n",
       "      <td>88.195</td>\n",
       "      <td>89.129</td>\n",
       "      <td>76.046</td>\n",
       "      <td>34.965</td>\n",
       "      <td>37.629</td>\n",
       "      <td>41.935</td>\n",
       "    </tr>\n",
       "  </tbody>\n",
       "</table>\n",
       "</div>"
      ],
      "text/plain": [
       "                Model      EvaluationInfo  AreaUnderCurve  Accuracy  \\\n",
       "6  LogisticRegression  C=19.1, penalty=l1          86.929    88.195   \n",
       "\n",
       "   False_Precision  True_Precision  True_Recall  True_Recall_CV  True_F1_Score  \n",
       "6           89.129          76.046       34.965          37.629         41.935  "
      ]
     },
     "execution_count": 48,
     "metadata": {},
     "output_type": "execute_result"
    }
   ],
   "source": [
    "evaluation_matrix.tail(1)"
   ]
  },
  {
   "cell_type": "markdown",
   "metadata": {},
   "source": [
    "Logistic model end up doing poorly in including all profit making customers. We might improve it by optimizing its parameters."
   ]
  },
  {
   "cell_type": "markdown",
   "metadata": {},
   "source": [
    "### LG: Hyper Parameter Tuning"
   ]
  },
  {
   "cell_type": "code",
   "execution_count": 49,
   "metadata": {
    "pycharm": {
     "name": "#%%\n"
    }
   },
   "outputs": [
    {
     "data": {
      "text/plain": [
       "GridSearchCV(cv=StratifiedKFold(n_splits=10, random_state=None, shuffle=False),\n",
       "             error_score=nan,\n",
       "             estimator=LogisticRegression(C=1.0, class_weight=None, dual=False,\n",
       "                                          fit_intercept=True,\n",
       "                                          intercept_scaling=1, l1_ratio=None,\n",
       "                                          max_iter=100, multi_class='auto',\n",
       "                                          n_jobs=None, penalty='l2',\n",
       "                                          random_state=None, solver='liblinear',\n",
       "                                          tol=0.0001, verbose=0,\n",
       "                                          warm_start=False),\n",
       "             iid='deprecated', n_jobs=-1,\n",
       "             param_grid={'C': array([ 0.5  , 10.375, 20.25 , 30.125, 40.   ]),\n",
       "                         'penalty': ['l1', 'l2']},\n",
       "             pre_dispatch='2*n_jobs', refit=True, return_train_score=False,\n",
       "             scoring='recall', verbose=0)"
      ]
     },
     "execution_count": 49,
     "metadata": {},
     "output_type": "execute_result"
    }
   ],
   "source": [
    "from sklearn.model_selection import GridSearchCV, StratifiedKFold\n",
    "\n",
    "# Cross-Validation\n",
    "cross_valid = StratifiedKFold(n_splits=10)\n",
    "\n",
    "# Hyperparameter Tuning\n",
    "penalties = ['l1','l2']\n",
    "C_values = np.linspace(0.5, 40, 5)\n",
    "params = {'penalty': penalties, 'C': C_values}\n",
    "\n",
    "logmodel2 = LogisticRegression(solver='liblinear')\n",
    "grid = GridSearchCV(estimator=logmodel2, param_grid=params, scoring='recall', n_jobs=-1, cv=cross_valid)\n",
    "grid.fit(X,y)"
   ]
  },
  {
   "cell_type": "code",
   "execution_count": 50,
   "metadata": {
    "pycharm": {
     "name": "#%%\n"
    }
   },
   "outputs": [
    {
     "name": "stdout",
     "output_type": "stream",
     "text": [
      "Model Parameters: {'C': 40.0, 'penalty': 'l2'}\n",
      "Average Recall: 0.37576191788371455\n"
     ]
    }
   ],
   "source": [
    "print('Model Parameters:', grid.best_params_)\n",
    "print('Average Recall:' ,grid.best_score_)"
   ]
  },
  {
   "cell_type": "markdown",
   "metadata": {},
   "source": [
    "### Optimization of  Probability Threshold\n",
    "We can se that the logistic regression did, in matter of recall for class 1, very poorly even with optimized parameters.\n",
    "\n",
    "With the models that can return the probability of target class, we can also optimize the threshold for that probability. It means, that with lower threshold, if the model is not entirely sure that the customer is not buying anything, it will put it under class 1. That will improve our recall very much.\n",
    "Returns\n",
    "Tarray-like of shape (n_samples, n_classes)\n",
    "Returns the probability of the sample for each class in the model, where classes are ordered as they are in self.classes_"
   ]
  },
  {
   "cell_type": "code",
   "execution_count": 51,
   "metadata": {},
   "outputs": [
    {
     "data": {
      "text/plain": [
       "LogisticRegression(C=40.0, class_weight=None, dual=False, fit_intercept=True,\n",
       "                   intercept_scaling=1, l1_ratio=None, max_iter=100,\n",
       "                   multi_class='auto', n_jobs=None, penalty='l2',\n",
       "                   random_state=3, solver='liblinear', tol=0.0001, verbose=0,\n",
       "                   warm_start=False)"
      ]
     },
     "execution_count": 51,
     "metadata": {},
     "output_type": "execute_result"
    }
   ],
   "source": [
    "logmodel = LogisticRegression(solver='liblinear', C=grid.best_params_['C'],\n",
    "                              penalty=grid.best_params_['penalty'],\n",
    "                              random_state=RANDOM_STATE)\n",
    "logmodel.fit(X_train, y_train)"
   ]
  },
  {
   "cell_type": "code",
   "execution_count": 52,
   "metadata": {
    "pycharm": {
     "name": "#%%\n"
    }
   },
   "outputs": [
    {
     "data": {
      "text/plain": [
       "array([0.12755101, 0.09165574, 0.16782045, ..., 0.04312692, 0.01107798,\n",
       "       0.06003705])"
      ]
     },
     "execution_count": 52,
     "metadata": {},
     "output_type": "execute_result"
    }
   ],
   "source": [
    "# Get probabilities for Revenue = 1\n",
    "y_prob_pred = logmodel.predict_proba(X_test)[:,1]\n",
    "y_prob_pred"
   ]
  },
  {
   "cell_type": "markdown",
   "metadata": {},
   "source": [
    "#### Threshold Optimization\n",
    "\n",
    "We will try different threshold for the classification base of probability. Default threshold in the models based on probability is 0.5"
   ]
  },
  {
   "cell_type": "code",
   "execution_count": 53,
   "metadata": {},
   "outputs": [
    {
     "name": "stdout",
     "output_type": "stream",
     "text": [
      "LG with threshold: 0.15\n",
      "              precision    recall  f1-score   support\n",
      "\n",
      "           0       0.95      0.85      0.90      3113\n",
      "           1       0.49      0.77      0.60       572\n",
      "\n",
      "    accuracy                           0.84      3685\n",
      "   macro avg       0.72      0.81      0.75      3685\n",
      "weighted avg       0.88      0.84      0.85      3685\n",
      "\n",
      "LG with threshold: 0.2\n",
      "              precision    recall  f1-score   support\n",
      "\n",
      "           0       0.94      0.92      0.93      3113\n",
      "           1       0.59      0.68      0.63       572\n",
      "\n",
      "    accuracy                           0.88      3685\n",
      "   macro avg       0.77      0.80      0.78      3685\n",
      "weighted avg       0.89      0.88      0.88      3685\n",
      "\n",
      "LG with threshold: 0.25\n",
      "              precision    recall  f1-score   support\n",
      "\n",
      "           0       0.92      0.94      0.93      3113\n",
      "           1       0.65      0.57      0.61       572\n",
      "\n",
      "    accuracy                           0.88      3685\n",
      "   macro avg       0.78      0.76      0.77      3685\n",
      "weighted avg       0.88      0.88      0.88      3685\n",
      "\n",
      "LG with threshold: 0.30000000000000004\n",
      "              precision    recall  f1-score   support\n",
      "\n",
      "           0       0.91      0.96      0.93      3113\n",
      "           1       0.67      0.50      0.57       572\n",
      "\n",
      "    accuracy                           0.88      3685\n",
      "   macro avg       0.79      0.73      0.75      3685\n",
      "weighted avg       0.87      0.88      0.88      3685\n",
      "\n",
      "LG with threshold: 0.3500000000000001\n",
      "              precision    recall  f1-score   support\n",
      "\n",
      "           0       0.91      0.96      0.93      3113\n",
      "           1       0.69      0.46      0.55       572\n",
      "\n",
      "    accuracy                           0.88      3685\n",
      "   macro avg       0.80      0.71      0.74      3685\n",
      "weighted avg       0.87      0.88      0.87      3685\n",
      "\n",
      "LG with threshold: 0.40000000000000013\n",
      "              precision    recall  f1-score   support\n",
      "\n",
      "           0       0.90      0.97      0.93      3113\n",
      "           1       0.70      0.41      0.52       572\n",
      "\n",
      "    accuracy                           0.88      3685\n",
      "   macro avg       0.80      0.69      0.72      3685\n",
      "weighted avg       0.87      0.88      0.87      3685\n",
      "\n",
      "LG with threshold: 0.45000000000000007\n",
      "              precision    recall  f1-score   support\n",
      "\n",
      "           0       0.90      0.97      0.93      3113\n",
      "           1       0.72      0.38      0.50       572\n",
      "\n",
      "    accuracy                           0.88      3685\n",
      "   macro avg       0.81      0.68      0.72      3685\n",
      "weighted avg       0.87      0.88      0.87      3685\n",
      "\n",
      "LG with threshold: 0.5000000000000001\n",
      "              precision    recall  f1-score   support\n",
      "\n",
      "           0       0.89      0.98      0.93      3113\n",
      "           1       0.75      0.35      0.48       572\n",
      "\n",
      "    accuracy                           0.88      3685\n",
      "   macro avg       0.82      0.66      0.71      3685\n",
      "weighted avg       0.87      0.88      0.86      3685\n",
      "\n",
      "LG with threshold: 0.5500000000000002\n",
      "              precision    recall  f1-score   support\n",
      "\n",
      "           0       0.89      0.98      0.93      3113\n",
      "           1       0.76      0.32      0.45       572\n",
      "\n",
      "    accuracy                           0.88      3685\n",
      "   macro avg       0.82      0.65      0.69      3685\n",
      "weighted avg       0.87      0.88      0.86      3685\n",
      "\n",
      "LG with threshold: 0.6000000000000002\n",
      "              precision    recall  f1-score   support\n",
      "\n",
      "           0       0.88      0.98      0.93      3113\n",
      "           1       0.77      0.29      0.42       572\n",
      "\n",
      "    accuracy                           0.88      3685\n",
      "   macro avg       0.83      0.64      0.68      3685\n",
      "weighted avg       0.87      0.88      0.85      3685\n",
      "\n",
      "LG with threshold: 0.6500000000000002\n",
      "              precision    recall  f1-score   support\n",
      "\n",
      "           0       0.88      0.99      0.93      3113\n",
      "           1       0.78      0.27      0.40       572\n",
      "\n",
      "    accuracy                           0.87      3685\n",
      "   macro avg       0.83      0.63      0.66      3685\n",
      "weighted avg       0.87      0.87      0.85      3685\n",
      "\n",
      "LG with threshold: 0.7000000000000002\n",
      "              precision    recall  f1-score   support\n",
      "\n",
      "           0       0.88      0.99      0.93      3113\n",
      "           1       0.80      0.25      0.38       572\n",
      "\n",
      "    accuracy                           0.87      3685\n",
      "   macro avg       0.84      0.62      0.66      3685\n",
      "weighted avg       0.87      0.87      0.84      3685\n",
      "\n",
      "LG with threshold: 0.7500000000000002\n",
      "              precision    recall  f1-score   support\n",
      "\n",
      "           0       0.88      0.99      0.93      3113\n",
      "           1       0.82      0.23      0.36       572\n",
      "\n",
      "    accuracy                           0.87      3685\n",
      "   macro avg       0.85      0.61      0.64      3685\n",
      "weighted avg       0.87      0.87      0.84      3685\n",
      "\n",
      "LG with threshold: 0.8000000000000003\n",
      "              precision    recall  f1-score   support\n",
      "\n",
      "           0       0.87      0.99      0.93      3113\n",
      "           1       0.83      0.21      0.33       572\n",
      "\n",
      "    accuracy                           0.87      3685\n",
      "   macro avg       0.85      0.60      0.63      3685\n",
      "weighted avg       0.86      0.87      0.84      3685\n",
      "\n",
      "LG with threshold: 0.8500000000000002\n",
      "              precision    recall  f1-score   support\n",
      "\n",
      "           0       0.87      0.99      0.93      3113\n",
      "           1       0.82      0.17      0.29       572\n",
      "\n",
      "    accuracy                           0.87      3685\n",
      "   macro avg       0.84      0.58      0.61      3685\n",
      "weighted avg       0.86      0.87      0.83      3685\n",
      "\n"
     ]
    }
   ],
   "source": [
    "thresholds = np.arange(0.15, 0.9, 0.05)\n",
    "for threshold in thresholds:\n",
    "    y_pred = y_prob_pred > threshold\n",
    "    print(f'LG with threshold: {threshold}')\n",
    "    #print(confusion_matrix(y_test,y_pred))\n",
    "    print(classification_report(y_test,y_pred))"
   ]
  },
  {
   "cell_type": "markdown",
   "metadata": {},
   "source": [
    "We can see, that the optimization of the threshold helped to find the good tradeoff between precision and recall for target class = True."
   ]
  },
  {
   "cell_type": "code",
   "execution_count": 54,
   "metadata": {},
   "outputs": [
    {
     "data": {
      "text/html": [
       "<div>\n",
       "<style scoped>\n",
       "    .dataframe tbody tr th:only-of-type {\n",
       "        vertical-align: middle;\n",
       "    }\n",
       "\n",
       "    .dataframe tbody tr th {\n",
       "        vertical-align: top;\n",
       "    }\n",
       "\n",
       "    .dataframe thead th {\n",
       "        text-align: right;\n",
       "    }\n",
       "</style>\n",
       "<table border=\"1\" class=\"dataframe\">\n",
       "  <thead>\n",
       "    <tr style=\"text-align: right;\">\n",
       "      <th></th>\n",
       "      <th>Model</th>\n",
       "      <th>EvaluationInfo</th>\n",
       "      <th>AreaUnderCurve</th>\n",
       "      <th>Accuracy</th>\n",
       "      <th>False_Precision</th>\n",
       "      <th>True_Precision</th>\n",
       "      <th>True_Recall</th>\n",
       "      <th>True_Recall_CV</th>\n",
       "      <th>True_F1_Score</th>\n",
       "    </tr>\n",
       "  </thead>\n",
       "  <tbody>\n",
       "    <tr>\n",
       "      <th>7</th>\n",
       "      <td>LogisticRegression</td>\n",
       "      <td>thr=0.2</td>\n",
       "      <td>87.446</td>\n",
       "      <td>87.815</td>\n",
       "      <td>93.902</td>\n",
       "      <td>59.447</td>\n",
       "      <td>67.657</td>\n",
       "      <td>37.262</td>\n",
       "      <td>64.899</td>\n",
       "    </tr>\n",
       "  </tbody>\n",
       "</table>\n",
       "</div>"
      ],
      "text/plain": [
       "                Model EvaluationInfo  AreaUnderCurve  Accuracy  \\\n",
       "7  LogisticRegression        thr=0.2          87.446    87.815   \n",
       "\n",
       "   False_Precision  True_Precision  True_Recall  True_Recall_CV  True_F1_Score  \n",
       "7           93.902          59.447       67.657          37.262         64.899  "
      ]
     },
     "execution_count": 54,
     "metadata": {},
     "output_type": "execute_result"
    }
   ],
   "source": [
    "threshold = 0.2\n",
    "\n",
    "# Get probabilities for Revenue = 1\n",
    "y_prob_pred = logmodel.predict_proba(X_test)[:,1]\n",
    "y_pred = y_prob_pred > threshold\n",
    "evaluate_model(logmodel,y_test,y_pred,f'thr={threshold}')\n",
    "evaluation_matrix.tail(1)"
   ]
  },
  {
   "cell_type": "markdown",
   "metadata": {},
   "source": [
    "# Models Evaluation"
   ]
  },
  {
   "cell_type": "markdown",
   "metadata": {},
   "source": [
    "Now that we have trained models, we can compare results. \n",
    "\n",
    "By accuracy, our baseline model had  85 % accuracy, which is very high for dummy model. Other models were  just slightly better but that should be the matter of course."
   ]
  },
  {
   "cell_type": "code",
   "execution_count": 55,
   "metadata": {},
   "outputs": [
    {
     "data": {
      "text/html": [
       "<div>\n",
       "<style scoped>\n",
       "    .dataframe tbody tr th:only-of-type {\n",
       "        vertical-align: middle;\n",
       "    }\n",
       "\n",
       "    .dataframe tbody tr th {\n",
       "        vertical-align: top;\n",
       "    }\n",
       "\n",
       "    .dataframe thead th {\n",
       "        text-align: right;\n",
       "    }\n",
       "</style>\n",
       "<table border=\"1\" class=\"dataframe\">\n",
       "  <thead>\n",
       "    <tr style=\"text-align: right;\">\n",
       "      <th></th>\n",
       "      <th>Model</th>\n",
       "      <th>EvaluationInfo</th>\n",
       "      <th>AreaUnderCurve</th>\n",
       "      <th>Accuracy</th>\n",
       "      <th>False_Precision</th>\n",
       "      <th>True_Precision</th>\n",
       "      <th>True_Recall</th>\n",
       "      <th>True_Recall_CV</th>\n",
       "      <th>True_F1_Score</th>\n",
       "    </tr>\n",
       "  </thead>\n",
       "  <tbody>\n",
       "    <tr>\n",
       "      <th>4</th>\n",
       "      <td>GradientBoostingClassifier</td>\n",
       "      <td>n_estimators=500</td>\n",
       "      <td>91.552</td>\n",
       "      <td>90.556</td>\n",
       "      <td>92.473</td>\n",
       "      <td>76.047</td>\n",
       "      <td>57.168</td>\n",
       "      <td>57.020</td>\n",
       "      <td>61.896</td>\n",
       "    </tr>\n",
       "    <tr>\n",
       "      <th>3</th>\n",
       "      <td>RandomForestClassifier</td>\n",
       "      <td>n_estimators=250</td>\n",
       "      <td>90.542</td>\n",
       "      <td>90.176</td>\n",
       "      <td>91.594</td>\n",
       "      <td>77.778</td>\n",
       "      <td>51.399</td>\n",
       "      <td>53.612</td>\n",
       "      <td>57.387</td>\n",
       "    </tr>\n",
       "    <tr>\n",
       "      <th>6</th>\n",
       "      <td>LogisticRegression</td>\n",
       "      <td>C=19.1, penalty=l1</td>\n",
       "      <td>86.929</td>\n",
       "      <td>88.195</td>\n",
       "      <td>89.129</td>\n",
       "      <td>76.046</td>\n",
       "      <td>34.965</td>\n",
       "      <td>37.629</td>\n",
       "      <td>41.935</td>\n",
       "    </tr>\n",
       "    <tr>\n",
       "      <th>7</th>\n",
       "      <td>LogisticRegression</td>\n",
       "      <td>thr=0.2</td>\n",
       "      <td>87.446</td>\n",
       "      <td>87.815</td>\n",
       "      <td>93.902</td>\n",
       "      <td>59.447</td>\n",
       "      <td>67.657</td>\n",
       "      <td>37.262</td>\n",
       "      <td>64.899</td>\n",
       "    </tr>\n",
       "    <tr>\n",
       "      <th>2</th>\n",
       "      <td>DecisionTreeClassifier</td>\n",
       "      <td>gini</td>\n",
       "      <td>72.494</td>\n",
       "      <td>85.617</td>\n",
       "      <td>91.945</td>\n",
       "      <td>53.465</td>\n",
       "      <td>56.643</td>\n",
       "      <td>55.186</td>\n",
       "      <td>55.626</td>\n",
       "    </tr>\n",
       "    <tr>\n",
       "      <th>0</th>\n",
       "      <td>DummyClassifier</td>\n",
       "      <td>most_frequent</td>\n",
       "      <td>50.000</td>\n",
       "      <td>84.478</td>\n",
       "      <td>84.478</td>\n",
       "      <td>0.000</td>\n",
       "      <td>0.000</td>\n",
       "      <td>0.000</td>\n",
       "      <td>0.000</td>\n",
       "    </tr>\n",
       "    <tr>\n",
       "      <th>5</th>\n",
       "      <td>GaussianNB</td>\n",
       "      <td></td>\n",
       "      <td>77.730</td>\n",
       "      <td>74.898</td>\n",
       "      <td>92.502</td>\n",
       "      <td>34.113</td>\n",
       "      <td>66.259</td>\n",
       "      <td>66.938</td>\n",
       "      <td>51.366</td>\n",
       "    </tr>\n",
       "    <tr>\n",
       "      <th>1</th>\n",
       "      <td>DummyClassifier</td>\n",
       "      <td>stratified</td>\n",
       "      <td>50.326</td>\n",
       "      <td>72.619</td>\n",
       "      <td>83.783</td>\n",
       "      <td>11.734</td>\n",
       "      <td>11.713</td>\n",
       "      <td>16.142</td>\n",
       "      <td>11.720</td>\n",
       "    </tr>\n",
       "  </tbody>\n",
       "</table>\n",
       "</div>"
      ],
      "text/plain": [
       "                        Model      EvaluationInfo  AreaUnderCurve  Accuracy  \\\n",
       "4  GradientBoostingClassifier    n_estimators=500          91.552    90.556   \n",
       "3      RandomForestClassifier    n_estimators=250          90.542    90.176   \n",
       "6          LogisticRegression  C=19.1, penalty=l1          86.929    88.195   \n",
       "7          LogisticRegression             thr=0.2          87.446    87.815   \n",
       "2      DecisionTreeClassifier                gini          72.494    85.617   \n",
       "0             DummyClassifier       most_frequent          50.000    84.478   \n",
       "5                  GaussianNB                              77.730    74.898   \n",
       "1             DummyClassifier          stratified          50.326    72.619   \n",
       "\n",
       "   False_Precision  True_Precision  True_Recall  True_Recall_CV  True_F1_Score  \n",
       "4           92.473          76.047       57.168          57.020         61.896  \n",
       "3           91.594          77.778       51.399          53.612         57.387  \n",
       "6           89.129          76.046       34.965          37.629         41.935  \n",
       "7           93.902          59.447       67.657          37.262         64.899  \n",
       "2           91.945          53.465       56.643          55.186         55.626  \n",
       "0           84.478           0.000        0.000           0.000          0.000  \n",
       "5           92.502          34.113       66.259          66.938         51.366  \n",
       "1           83.783          11.734       11.713          16.142         11.720  "
      ]
     },
     "execution_count": 55,
     "metadata": {},
     "output_type": "execute_result"
    }
   ],
   "source": [
    "evaluation_matrix.sort_values(by=['Accuracy'], ascending=False)"
   ]
  },
  {
   "cell_type": "code",
   "execution_count": 56,
   "metadata": {},
   "outputs": [
    {
     "data": {
      "image/png": "[encoded data removed]",
      "text/plain": [
       "<Figure size 432x288 with 1 Axes>"
      ]
     },
     "metadata": {},
     "output_type": "display_data"
    }
   ],
   "source": [
    "from sklearn.metrics import plot_roc_curve\n",
    "\n",
    "ran_forest_disp = plot_roc_curve(ran_forest, X_test, y_test)\n",
    "ax = plt.gca()\n",
    "dtree_disp = plot_roc_curve(dtree, X_test, y_test, ax=ax, alpha=0.8)\n",
    "gbk_disp = plot_roc_curve(gbk, X_test, y_test, ax=ax, alpha=0.8)\n",
    "gaussiannb_disp = plot_roc_curve(gaussiannb, X_test, y_test, ax=ax, alpha=0.8)\n",
    "logmodel_disp = plot_roc_curve(logmodel, X_test, y_test, ax=ax, alpha=0.8)"
   ]
  },
  {
   "cell_type": "markdown",
   "metadata": {},
   "source": [
    "Note: AUC in matrix comes from cross validation, plot is working only with test data\n",
    "\n",
    "From ROC point, we see, that ensemble models got the highest area under curve. With other metrics in mind, we can say the Gradient boosting clasifier is the best overall model, even recall is one of the betters. "
   ]
  },
  {
   "cell_type": "code",
   "execution_count": 57,
   "metadata": {},
   "outputs": [
    {
     "data": {
      "text/html": [
       "<div>\n",
       "<style scoped>\n",
       "    .dataframe tbody tr th:only-of-type {\n",
       "        vertical-align: middle;\n",
       "    }\n",
       "\n",
       "    .dataframe tbody tr th {\n",
       "        vertical-align: top;\n",
       "    }\n",
       "\n",
       "    .dataframe thead th {\n",
       "        text-align: right;\n",
       "    }\n",
       "</style>\n",
       "<table border=\"1\" class=\"dataframe\">\n",
       "  <thead>\n",
       "    <tr style=\"text-align: right;\">\n",
       "      <th></th>\n",
       "      <th>Model</th>\n",
       "      <th>EvaluationInfo</th>\n",
       "      <th>AreaUnderCurve</th>\n",
       "      <th>Accuracy</th>\n",
       "      <th>False_Precision</th>\n",
       "      <th>True_Precision</th>\n",
       "      <th>True_Recall</th>\n",
       "      <th>True_Recall_CV</th>\n",
       "      <th>True_F1_Score</th>\n",
       "    </tr>\n",
       "  </thead>\n",
       "  <tbody>\n",
       "    <tr>\n",
       "      <th>4</th>\n",
       "      <td>GradientBoostingClassifier</td>\n",
       "      <td>n_estimators=500</td>\n",
       "      <td>91.552</td>\n",
       "      <td>90.556</td>\n",
       "      <td>92.473</td>\n",
       "      <td>76.047</td>\n",
       "      <td>57.168</td>\n",
       "      <td>57.020</td>\n",
       "      <td>61.896</td>\n",
       "    </tr>\n",
       "    <tr>\n",
       "      <th>3</th>\n",
       "      <td>RandomForestClassifier</td>\n",
       "      <td>n_estimators=250</td>\n",
       "      <td>90.542</td>\n",
       "      <td>90.176</td>\n",
       "      <td>91.594</td>\n",
       "      <td>77.778</td>\n",
       "      <td>51.399</td>\n",
       "      <td>53.612</td>\n",
       "      <td>57.387</td>\n",
       "    </tr>\n",
       "    <tr>\n",
       "      <th>7</th>\n",
       "      <td>LogisticRegression</td>\n",
       "      <td>thr=0.2</td>\n",
       "      <td>87.446</td>\n",
       "      <td>87.815</td>\n",
       "      <td>93.902</td>\n",
       "      <td>59.447</td>\n",
       "      <td>67.657</td>\n",
       "      <td>37.262</td>\n",
       "      <td>64.899</td>\n",
       "    </tr>\n",
       "    <tr>\n",
       "      <th>6</th>\n",
       "      <td>LogisticRegression</td>\n",
       "      <td>C=19.1, penalty=l1</td>\n",
       "      <td>86.929</td>\n",
       "      <td>88.195</td>\n",
       "      <td>89.129</td>\n",
       "      <td>76.046</td>\n",
       "      <td>34.965</td>\n",
       "      <td>37.629</td>\n",
       "      <td>41.935</td>\n",
       "    </tr>\n",
       "    <tr>\n",
       "      <th>5</th>\n",
       "      <td>GaussianNB</td>\n",
       "      <td></td>\n",
       "      <td>77.730</td>\n",
       "      <td>74.898</td>\n",
       "      <td>92.502</td>\n",
       "      <td>34.113</td>\n",
       "      <td>66.259</td>\n",
       "      <td>66.938</td>\n",
       "      <td>51.366</td>\n",
       "    </tr>\n",
       "    <tr>\n",
       "      <th>2</th>\n",
       "      <td>DecisionTreeClassifier</td>\n",
       "      <td>gini</td>\n",
       "      <td>72.494</td>\n",
       "      <td>85.617</td>\n",
       "      <td>91.945</td>\n",
       "      <td>53.465</td>\n",
       "      <td>56.643</td>\n",
       "      <td>55.186</td>\n",
       "      <td>55.626</td>\n",
       "    </tr>\n",
       "    <tr>\n",
       "      <th>1</th>\n",
       "      <td>DummyClassifier</td>\n",
       "      <td>stratified</td>\n",
       "      <td>50.326</td>\n",
       "      <td>72.619</td>\n",
       "      <td>83.783</td>\n",
       "      <td>11.734</td>\n",
       "      <td>11.713</td>\n",
       "      <td>16.142</td>\n",
       "      <td>11.720</td>\n",
       "    </tr>\n",
       "    <tr>\n",
       "      <th>0</th>\n",
       "      <td>DummyClassifier</td>\n",
       "      <td>most_frequent</td>\n",
       "      <td>50.000</td>\n",
       "      <td>84.478</td>\n",
       "      <td>84.478</td>\n",
       "      <td>0.000</td>\n",
       "      <td>0.000</td>\n",
       "      <td>0.000</td>\n",
       "      <td>0.000</td>\n",
       "    </tr>\n",
       "  </tbody>\n",
       "</table>\n",
       "</div>"
      ],
      "text/plain": [
       "                        Model      EvaluationInfo  AreaUnderCurve  Accuracy  \\\n",
       "4  GradientBoostingClassifier    n_estimators=500          91.552    90.556   \n",
       "3      RandomForestClassifier    n_estimators=250          90.542    90.176   \n",
       "7          LogisticRegression             thr=0.2          87.446    87.815   \n",
       "6          LogisticRegression  C=19.1, penalty=l1          86.929    88.195   \n",
       "5                  GaussianNB                              77.730    74.898   \n",
       "2      DecisionTreeClassifier                gini          72.494    85.617   \n",
       "1             DummyClassifier          stratified          50.326    72.619   \n",
       "0             DummyClassifier       most_frequent          50.000    84.478   \n",
       "\n",
       "   False_Precision  True_Precision  True_Recall  True_Recall_CV  True_F1_Score  \n",
       "4           92.473          76.047       57.168          57.020         61.896  \n",
       "3           91.594          77.778       51.399          53.612         57.387  \n",
       "7           93.902          59.447       67.657          37.262         64.899  \n",
       "6           89.129          76.046       34.965          37.629         41.935  \n",
       "5           92.502          34.113       66.259          66.938         51.366  \n",
       "2           91.945          53.465       56.643          55.186         55.626  \n",
       "1           83.783          11.734       11.713          16.142         11.720  \n",
       "0           84.478           0.000        0.000           0.000          0.000  "
      ]
     },
     "execution_count": 57,
     "metadata": {},
     "output_type": "execute_result"
    }
   ],
   "source": [
    "evaluation_matrix.sort_values(by=['AreaUnderCurve'], ascending=False)"
   ]
  },
  {
   "cell_type": "markdown",
   "metadata": {},
   "source": [
    "As the main goal for our model is to find as many customers that generated profit as possible, we don't consider to be false positives that an issue, so we put recall metrics above others. We see that only logistic regression and Naive Bayes were able to classify correctly around the 2/3. We also see the huge tradeoff for precision for Naive Bayes so we exclude it from solution. "
   ]
  },
  {
   "cell_type": "code",
   "execution_count": 58,
   "metadata": {},
   "outputs": [
    {
     "data": {
      "text/html": [
       "<div>\n",
       "<style scoped>\n",
       "    .dataframe tbody tr th:only-of-type {\n",
       "        vertical-align: middle;\n",
       "    }\n",
       "\n",
       "    .dataframe tbody tr th {\n",
       "        vertical-align: top;\n",
       "    }\n",
       "\n",
       "    .dataframe thead th {\n",
       "        text-align: right;\n",
       "    }\n",
       "</style>\n",
       "<table border=\"1\" class=\"dataframe\">\n",
       "  <thead>\n",
       "    <tr style=\"text-align: right;\">\n",
       "      <th></th>\n",
       "      <th>Model</th>\n",
       "      <th>EvaluationInfo</th>\n",
       "      <th>AreaUnderCurve</th>\n",
       "      <th>Accuracy</th>\n",
       "      <th>False_Precision</th>\n",
       "      <th>True_Precision</th>\n",
       "      <th>True_Recall</th>\n",
       "      <th>True_Recall_CV</th>\n",
       "      <th>True_F1_Score</th>\n",
       "    </tr>\n",
       "  </thead>\n",
       "  <tbody>\n",
       "    <tr>\n",
       "      <th>7</th>\n",
       "      <td>LogisticRegression</td>\n",
       "      <td>thr=0.2</td>\n",
       "      <td>87.446</td>\n",
       "      <td>87.815</td>\n",
       "      <td>93.902</td>\n",
       "      <td>59.447</td>\n",
       "      <td>67.657</td>\n",
       "      <td>37.262</td>\n",
       "      <td>64.899</td>\n",
       "    </tr>\n",
       "    <tr>\n",
       "      <th>5</th>\n",
       "      <td>GaussianNB</td>\n",
       "      <td></td>\n",
       "      <td>77.730</td>\n",
       "      <td>74.898</td>\n",
       "      <td>92.502</td>\n",
       "      <td>34.113</td>\n",
       "      <td>66.259</td>\n",
       "      <td>66.938</td>\n",
       "      <td>51.366</td>\n",
       "    </tr>\n",
       "    <tr>\n",
       "      <th>4</th>\n",
       "      <td>GradientBoostingClassifier</td>\n",
       "      <td>n_estimators=500</td>\n",
       "      <td>91.552</td>\n",
       "      <td>90.556</td>\n",
       "      <td>92.473</td>\n",
       "      <td>76.047</td>\n",
       "      <td>57.168</td>\n",
       "      <td>57.020</td>\n",
       "      <td>61.896</td>\n",
       "    </tr>\n",
       "    <tr>\n",
       "      <th>2</th>\n",
       "      <td>DecisionTreeClassifier</td>\n",
       "      <td>gini</td>\n",
       "      <td>72.494</td>\n",
       "      <td>85.617</td>\n",
       "      <td>91.945</td>\n",
       "      <td>53.465</td>\n",
       "      <td>56.643</td>\n",
       "      <td>55.186</td>\n",
       "      <td>55.626</td>\n",
       "    </tr>\n",
       "    <tr>\n",
       "      <th>3</th>\n",
       "      <td>RandomForestClassifier</td>\n",
       "      <td>n_estimators=250</td>\n",
       "      <td>90.542</td>\n",
       "      <td>90.176</td>\n",
       "      <td>91.594</td>\n",
       "      <td>77.778</td>\n",
       "      <td>51.399</td>\n",
       "      <td>53.612</td>\n",
       "      <td>57.387</td>\n",
       "    </tr>\n",
       "    <tr>\n",
       "      <th>6</th>\n",
       "      <td>LogisticRegression</td>\n",
       "      <td>C=19.1, penalty=l1</td>\n",
       "      <td>86.929</td>\n",
       "      <td>88.195</td>\n",
       "      <td>89.129</td>\n",
       "      <td>76.046</td>\n",
       "      <td>34.965</td>\n",
       "      <td>37.629</td>\n",
       "      <td>41.935</td>\n",
       "    </tr>\n",
       "    <tr>\n",
       "      <th>1</th>\n",
       "      <td>DummyClassifier</td>\n",
       "      <td>stratified</td>\n",
       "      <td>50.326</td>\n",
       "      <td>72.619</td>\n",
       "      <td>83.783</td>\n",
       "      <td>11.734</td>\n",
       "      <td>11.713</td>\n",
       "      <td>16.142</td>\n",
       "      <td>11.720</td>\n",
       "    </tr>\n",
       "    <tr>\n",
       "      <th>0</th>\n",
       "      <td>DummyClassifier</td>\n",
       "      <td>most_frequent</td>\n",
       "      <td>50.000</td>\n",
       "      <td>84.478</td>\n",
       "      <td>84.478</td>\n",
       "      <td>0.000</td>\n",
       "      <td>0.000</td>\n",
       "      <td>0.000</td>\n",
       "      <td>0.000</td>\n",
       "    </tr>\n",
       "  </tbody>\n",
       "</table>\n",
       "</div>"
      ],
      "text/plain": [
       "                        Model      EvaluationInfo  AreaUnderCurve  Accuracy  \\\n",
       "7          LogisticRegression             thr=0.2          87.446    87.815   \n",
       "5                  GaussianNB                              77.730    74.898   \n",
       "4  GradientBoostingClassifier    n_estimators=500          91.552    90.556   \n",
       "2      DecisionTreeClassifier                gini          72.494    85.617   \n",
       "3      RandomForestClassifier    n_estimators=250          90.542    90.176   \n",
       "6          LogisticRegression  C=19.1, penalty=l1          86.929    88.195   \n",
       "1             DummyClassifier          stratified          50.326    72.619   \n",
       "0             DummyClassifier       most_frequent          50.000    84.478   \n",
       "\n",
       "   False_Precision  True_Precision  True_Recall  True_Recall_CV  True_F1_Score  \n",
       "7           93.902          59.447       67.657          37.262         64.899  \n",
       "5           92.502          34.113       66.259          66.938         51.366  \n",
       "4           92.473          76.047       57.168          57.020         61.896  \n",
       "2           91.945          53.465       56.643          55.186         55.626  \n",
       "3           91.594          77.778       51.399          53.612         57.387  \n",
       "6           89.129          76.046       34.965          37.629         41.935  \n",
       "1           83.783          11.734       11.713          16.142         11.720  \n",
       "0           84.478           0.000        0.000           0.000          0.000  "
      ]
     },
     "execution_count": 58,
     "metadata": {},
     "output_type": "execute_result"
    }
   ],
   "source": [
    "evaluation_matrix.sort_values(by=['True_Recall'], ascending=False)"
   ]
  },
  {
   "cell_type": "markdown",
   "metadata": {},
   "source": [
    "In our case, we would present to the client two models, GradientBoostingClassifier as the overall best model and LogisticRegression that can be tweaked thanks to its probabilistic approach to match their future intentions and false positive rate appetite."
   ]
  },
  {
   "cell_type": "markdown",
   "metadata": {},
   "source": [
    "## Bonus Model: Neural Network"
   ]
  },
  {
   "cell_type": "markdown",
   "metadata": {},
   "source": [
    "### Z - score Scaler - {-1;1}"
   ]
  },
  {
   "cell_type": "code",
   "execution_count": 59,
   "metadata": {},
   "outputs": [],
   "source": [
    "from sklearn.preprocessing import StandardScaler\n",
    "sc = StandardScaler()\n",
    "X_scal = sc.fit_transform(df.drop(labels=[TARGET_VARIABLE], axis=1))\n",
    "X_scal\n",
    "X_train, X_test, y_train, y_test = train_test_split(X_scal, y, test_size=0.3, random_state=3)"
   ]
  },
  {
   "cell_type": "code",
   "execution_count": 60,
   "metadata": {
    "pycharm": {
     "name": "#%%\n"
    }
   },
   "outputs": [
    {
     "name": "stderr",
     "output_type": "stream",
     "text": [
      "Using TensorFlow backend.\n"
     ]
    }
   ],
   "source": [
    "import keras as K\n",
    "from keras import Sequential\n",
    "from keras.layers import Dense"
   ]
  },
  {
   "cell_type": "markdown",
   "metadata": {},
   "source": [
    "### Build ANN model"
   ]
  },
  {
   "cell_type": "code",
   "execution_count": 61,
   "metadata": {
    "pycharm": {
     "name": "#%%\n"
    }
   },
   "outputs": [],
   "source": [
    "classifier = Sequential()\n",
    "#First Hidden Layer\n",
    "classifier.add(Dense(12, activation='tanh', kernel_initializer='random_normal', input_dim=X_scal.shape[1]))\n",
    "#Second  Hidden Layer\n",
    "classifier.add(Dense(12, activation='tanh', kernel_initializer='random_normal'))\n",
    "#Output Layer\n",
    "classifier.add(Dense(1, activation='sigmoid', kernel_initializer='random_normal'))"
   ]
  },
  {
   "cell_type": "markdown",
   "metadata": {},
   "source": [
    "### Compile NN model"
   ]
  },
  {
   "cell_type": "markdown",
   "metadata": {},
   "source": [
    "Add validation set to see if the model tends overfit after a while"
   ]
  },
  {
   "cell_type": "code",
   "execution_count": 62,
   "metadata": {
    "pycharm": {
     "name": "#%%\n"
    }
   },
   "outputs": [],
   "source": [
    "#Compiling the neural network\n",
    "classifier.compile(optimizer ='adam',loss='binary_crossentropy', metrics =['accuracy'])"
   ]
  },
  {
   "cell_type": "markdown",
   "metadata": {},
   "source": [
    "### Train model"
   ]
  },
  {
   "cell_type": "code",
   "execution_count": 63,
   "metadata": {
    "pycharm": {
     "name": "#%%\n"
    },
    "scrolled": true
   },
   "outputs": [
    {
     "name": "stdout",
     "output_type": "stream",
     "text": [
      "Train on 6878 samples, validate on 1720 samples\n",
      "Epoch 1/25\n",
      "6878/6878 [==============================] - 0s 70us/step - loss: 0.3888 - accuracy: 0.8622 - val_loss: 0.3045 - val_accuracy: 0.8820\n",
      "Epoch 2/25\n",
      "6878/6878 [==============================] - 0s 56us/step - loss: 0.3041 - accuracy: 0.8825 - val_loss: 0.2911 - val_accuracy: 0.8860\n",
      "Epoch 3/25\n",
      "6878/6878 [==============================] - 0s 57us/step - loss: 0.2916 - accuracy: 0.8883 - val_loss: 0.2868 - val_accuracy: 0.8866\n",
      "Epoch 4/25\n",
      "6878/6878 [==============================] - 0s 56us/step - loss: 0.2787 - accuracy: 0.8875 - val_loss: 0.2767 - val_accuracy: 0.8890\n",
      "Epoch 5/25\n",
      "6878/6878 [==============================] - 0s 56us/step - loss: 0.2708 - accuracy: 0.8911 - val_loss: 0.2691 - val_accuracy: 0.8860\n",
      "Epoch 6/25\n",
      "6878/6878 [==============================] - 0s 56us/step - loss: 0.2657 - accuracy: 0.8914 - val_loss: 0.2717 - val_accuracy: 0.8849\n",
      "Epoch 7/25\n",
      "6878/6878 [==============================] - 0s 56us/step - loss: 0.2616 - accuracy: 0.8944 - val_loss: 0.2652 - val_accuracy: 0.8890\n",
      "Epoch 8/25\n",
      "6878/6878 [==============================] - 0s 57us/step - loss: 0.2576 - accuracy: 0.8949 - val_loss: 0.2645 - val_accuracy: 0.8895\n",
      "Epoch 9/25\n",
      "6878/6878 [==============================] - 0s 56us/step - loss: 0.2545 - accuracy: 0.8950 - val_loss: 0.2624 - val_accuracy: 0.8901\n",
      "Epoch 10/25\n",
      "6878/6878 [==============================] - 0s 58us/step - loss: 0.2517 - accuracy: 0.8982 - val_loss: 0.2608 - val_accuracy: 0.8901\n",
      "Epoch 11/25\n",
      "6878/6878 [==============================] - 0s 57us/step - loss: 0.2494 - accuracy: 0.8971 - val_loss: 0.2586 - val_accuracy: 0.8907\n",
      "Epoch 12/25\n",
      "6878/6878 [==============================] - 0s 56us/step - loss: 0.2475 - accuracy: 0.8958 - val_loss: 0.2604 - val_accuracy: 0.8924\n",
      "Epoch 13/25\n",
      "6878/6878 [==============================] - 0s 57us/step - loss: 0.2451 - accuracy: 0.8984 - val_loss: 0.2618 - val_accuracy: 0.8895\n",
      "Epoch 14/25\n",
      "6878/6878 [==============================] - 0s 56us/step - loss: 0.2434 - accuracy: 0.8998 - val_loss: 0.2628 - val_accuracy: 0.8913\n",
      "Epoch 15/25\n",
      "6878/6878 [==============================] - 0s 56us/step - loss: 0.2406 - accuracy: 0.9004 - val_loss: 0.2631 - val_accuracy: 0.8936\n",
      "Epoch 16/25\n",
      "6878/6878 [==============================] - 0s 57us/step - loss: 0.2371 - accuracy: 0.9010 - val_loss: 0.2652 - val_accuracy: 0.8924\n",
      "Epoch 17/25\n",
      "6878/6878 [==============================] - 0s 57us/step - loss: 0.2355 - accuracy: 0.9006 - val_loss: 0.2637 - val_accuracy: 0.8930\n",
      "Epoch 18/25\n",
      "6878/6878 [==============================] - 0s 57us/step - loss: 0.2345 - accuracy: 0.9011 - val_loss: 0.2651 - val_accuracy: 0.8924\n",
      "Epoch 19/25\n",
      "6878/6878 [==============================] - 0s 56us/step - loss: 0.2315 - accuracy: 0.9045 - val_loss: 0.2666 - val_accuracy: 0.8924\n",
      "Epoch 20/25\n",
      "6878/6878 [==============================] - 0s 57us/step - loss: 0.2287 - accuracy: 0.9056 - val_loss: 0.2711 - val_accuracy: 0.8907\n",
      "Epoch 21/25\n",
      "6878/6878 [==============================] - 0s 57us/step - loss: 0.2274 - accuracy: 0.9032 - val_loss: 0.2741 - val_accuracy: 0.8895\n",
      "Epoch 22/25\n",
      "6878/6878 [==============================] - 0s 57us/step - loss: 0.2242 - accuracy: 0.9054 - val_loss: 0.2734 - val_accuracy: 0.8924\n",
      "Epoch 23/25\n",
      "6878/6878 [==============================] - 0s 56us/step - loss: 0.2230 - accuracy: 0.9051 - val_loss: 0.2778 - val_accuracy: 0.8884\n",
      "Epoch 24/25\n",
      "6878/6878 [==============================] - 0s 56us/step - loss: 0.2202 - accuracy: 0.9078 - val_loss: 0.2792 - val_accuracy: 0.8913\n",
      "Epoch 25/25\n",
      "6878/6878 [==============================] - 0s 57us/step - loss: 0.2188 - accuracy: 0.9103 - val_loss: 0.2869 - val_accuracy: 0.8860\n"
     ]
    },
    {
     "data": {
      "text/plain": [
       "<keras.callbacks.callbacks.History at 0x7fe9c80ee8d0>"
      ]
     },
     "execution_count": 63,
     "metadata": {},
     "output_type": "execute_result"
    }
   ],
   "source": [
    "#Fitting the data to the training dataset\n",
    "classifier.fit(X_train,y_train, batch_size=10, epochs=25, validation_split=0.2)"
   ]
  },
  {
   "cell_type": "markdown",
   "metadata": {},
   "source": [
    "## Optimize probability threshold"
   ]
  },
  {
   "cell_type": "code",
   "execution_count": 64,
   "metadata": {
    "pycharm": {
     "name": "#%%\n"
    }
   },
   "outputs": [],
   "source": [
    "y_prod_pred = classifier.predict(X_test)"
   ]
  },
  {
   "cell_type": "code",
   "execution_count": 65,
   "metadata": {},
   "outputs": [
    {
     "name": "stdout",
     "output_type": "stream",
     "text": [
      "LG with threshold: 0.15\n",
      "              precision    recall  f1-score   support\n",
      "\n",
      "           0       0.84      0.76      0.80      3105\n",
      "           1       0.16      0.26      0.20       580\n",
      "\n",
      "    accuracy                           0.68      3685\n",
      "   macro avg       0.50      0.51      0.50      3685\n",
      "weighted avg       0.74      0.68      0.70      3685\n",
      "\n",
      "LG with threshold: 0.2\n",
      "              precision    recall  f1-score   support\n",
      "\n",
      "           0       0.85      0.83      0.84      3105\n",
      "           1       0.17      0.19      0.18       580\n",
      "\n",
      "    accuracy                           0.73      3685\n",
      "   macro avg       0.51      0.51      0.51      3685\n",
      "weighted avg       0.74      0.73      0.73      3685\n",
      "\n",
      "LG with threshold: 0.25\n",
      "              precision    recall  f1-score   support\n",
      "\n",
      "           0       0.84      0.86      0.85      3105\n",
      "           1       0.15      0.13      0.14       580\n",
      "\n",
      "    accuracy                           0.75      3685\n",
      "   macro avg       0.50      0.50      0.50      3685\n",
      "weighted avg       0.73      0.75      0.74      3685\n",
      "\n",
      "LG with threshold: 0.30000000000000004\n",
      "              precision    recall  f1-score   support\n",
      "\n",
      "           0       0.84      0.88      0.86      3105\n",
      "           1       0.14      0.11      0.12       580\n",
      "\n",
      "    accuracy                           0.76      3685\n",
      "   macro avg       0.49      0.49      0.49      3685\n",
      "weighted avg       0.73      0.76      0.74      3685\n",
      "\n",
      "LG with threshold: 0.3500000000000001\n",
      "              precision    recall  f1-score   support\n",
      "\n",
      "           0       0.84      0.90      0.87      3105\n",
      "           1       0.14      0.09      0.11       580\n",
      "\n",
      "    accuracy                           0.77      3685\n",
      "   macro avg       0.49      0.49      0.49      3685\n",
      "weighted avg       0.73      0.77      0.75      3685\n",
      "\n",
      "LG with threshold: 0.40000000000000013\n",
      "              precision    recall  f1-score   support\n",
      "\n",
      "           0       0.84      0.91      0.87      3105\n",
      "           1       0.15      0.08      0.11       580\n",
      "\n",
      "    accuracy                           0.78      3685\n",
      "   macro avg       0.49      0.50      0.49      3685\n",
      "weighted avg       0.73      0.78      0.75      3685\n",
      "\n",
      "LG with threshold: 0.45000000000000007\n",
      "              precision    recall  f1-score   support\n",
      "\n",
      "           0       0.84      0.92      0.88      3105\n",
      "           1       0.15      0.08      0.10       580\n",
      "\n",
      "    accuracy                           0.78      3685\n",
      "   macro avg       0.50      0.50      0.49      3685\n",
      "weighted avg       0.73      0.78      0.76      3685\n",
      "\n",
      "LG with threshold: 0.5000000000000001\n",
      "              precision    recall  f1-score   support\n",
      "\n",
      "           0       0.84      0.93      0.88      3105\n",
      "           1       0.15      0.07      0.09       580\n",
      "\n",
      "    accuracy                           0.79      3685\n",
      "   macro avg       0.50      0.50      0.49      3685\n",
      "weighted avg       0.73      0.79      0.76      3685\n",
      "\n",
      "LG with threshold: 0.5500000000000002\n",
      "              precision    recall  f1-score   support\n",
      "\n",
      "           0       0.84      0.93      0.89      3105\n",
      "           1       0.16      0.07      0.09       580\n",
      "\n",
      "    accuracy                           0.80      3685\n",
      "   macro avg       0.50      0.50      0.49      3685\n",
      "weighted avg       0.73      0.80      0.76      3685\n",
      "\n",
      "LG with threshold: 0.6000000000000002\n",
      "              precision    recall  f1-score   support\n",
      "\n",
      "           0       0.84      0.94      0.89      3105\n",
      "           1       0.17      0.06      0.09       580\n",
      "\n",
      "    accuracy                           0.80      3685\n",
      "   macro avg       0.50      0.50      0.49      3685\n",
      "weighted avg       0.74      0.80      0.76      3685\n",
      "\n",
      "LG with threshold: 0.6500000000000002\n",
      "              precision    recall  f1-score   support\n",
      "\n",
      "           0       0.84      0.95      0.89      3105\n",
      "           1       0.17      0.06      0.09       580\n",
      "\n",
      "    accuracy                           0.81      3685\n",
      "   macro avg       0.51      0.50      0.49      3685\n",
      "weighted avg       0.74      0.81      0.77      3685\n",
      "\n",
      "LG with threshold: 0.7000000000000002\n",
      "              precision    recall  f1-score   support\n",
      "\n",
      "           0       0.84      0.95      0.89      3105\n",
      "           1       0.17      0.05      0.08       580\n",
      "\n",
      "    accuracy                           0.81      3685\n",
      "   macro avg       0.51      0.50      0.49      3685\n",
      "weighted avg       0.74      0.81      0.77      3685\n",
      "\n",
      "LG with threshold: 0.7500000000000002\n",
      "              precision    recall  f1-score   support\n",
      "\n",
      "           0       0.84      0.96      0.90      3105\n",
      "           1       0.18      0.05      0.08       580\n",
      "\n",
      "    accuracy                           0.81      3685\n",
      "   macro avg       0.51      0.50      0.49      3685\n",
      "weighted avg       0.74      0.81      0.77      3685\n",
      "\n",
      "LG with threshold: 0.8000000000000003\n",
      "              precision    recall  f1-score   support\n",
      "\n",
      "           0       0.84      0.96      0.90      3105\n",
      "           1       0.15      0.04      0.06       580\n",
      "\n",
      "    accuracy                           0.82      3685\n",
      "   macro avg       0.49      0.50      0.48      3685\n",
      "weighted avg       0.73      0.82      0.77      3685\n",
      "\n",
      "LG with threshold: 0.8500000000000002\n",
      "              precision    recall  f1-score   support\n",
      "\n",
      "           0       0.84      0.97      0.90      3105\n",
      "           1       0.14      0.03      0.05       580\n",
      "\n",
      "    accuracy                           0.82      3685\n",
      "   macro avg       0.49      0.50      0.47      3685\n",
      "weighted avg       0.73      0.82      0.77      3685\n",
      "\n"
     ]
    }
   ],
   "source": [
    "thresholds = np.arange(0.15, 0.9, 0.05)\n",
    "for threshold in thresholds:\n",
    "    y_pred = y_prob_pred > threshold\n",
    "    print(f'LG with threshold: {threshold}')\n",
    "    #print(confusion_matrix(y_test,y_pred))\n",
    "    print(classification_report(y_test,y_pred))"
   ]
  },
  {
   "cell_type": "code",
   "execution_count": 66,
   "metadata": {},
   "outputs": [
    {
     "data": {
      "text/html": [
       "<div>\n",
       "<style scoped>\n",
       "    .dataframe tbody tr th:only-of-type {\n",
       "        vertical-align: middle;\n",
       "    }\n",
       "\n",
       "    .dataframe tbody tr th {\n",
       "        vertical-align: top;\n",
       "    }\n",
       "\n",
       "    .dataframe thead th {\n",
       "        text-align: right;\n",
       "    }\n",
       "</style>\n",
       "<table border=\"1\" class=\"dataframe\">\n",
       "  <thead>\n",
       "    <tr style=\"text-align: right;\">\n",
       "      <th></th>\n",
       "      <th>Model</th>\n",
       "      <th>EvaluationInfo</th>\n",
       "      <th>AreaUnderCurve</th>\n",
       "      <th>Accuracy</th>\n",
       "      <th>False_Precision</th>\n",
       "      <th>True_Precision</th>\n",
       "      <th>True_Recall</th>\n",
       "      <th>True_Recall_CV</th>\n",
       "      <th>True_F1_Score</th>\n",
       "    </tr>\n",
       "  </thead>\n",
       "  <tbody>\n",
       "    <tr>\n",
       "      <th>8</th>\n",
       "      <td>ANN - Keras</td>\n",
       "      <td>thr=0.35</td>\n",
       "      <td>NaN</td>\n",
       "      <td>88.195</td>\n",
       "      <td>94.949</td>\n",
       "      <td>60.14</td>\n",
       "      <td>74.138</td>\n",
       "      <td>NaN</td>\n",
       "      <td>69.183</td>\n",
       "    </tr>\n",
       "  </tbody>\n",
       "</table>\n",
       "</div>"
      ],
      "text/plain": [
       "         Model EvaluationInfo  AreaUnderCurve  Accuracy  False_Precision  \\\n",
       "8  ANN - Keras       thr=0.35             NaN    88.195           94.949   \n",
       "\n",
       "   True_Precision  True_Recall  True_Recall_CV  True_F1_Score  \n",
       "8           60.14       74.138             NaN         69.183  "
      ]
     },
     "execution_count": 66,
     "metadata": {},
     "output_type": "execute_result"
    }
   ],
   "source": [
    "threshold = 0.35\n",
    "\n",
    "# Get probabilities for Revenue = 1\n",
    "y_prob_pred = classifier.predict(X_test)\n",
    "y_pred = y_prob_pred > threshold\n",
    "\n",
    "evaluate_model(\"ANN - Keras\",y_test,y_pred,f'thr={threshold}')\n",
    "evaluation_matrix.tail(1)"
   ]
  },
  {
   "cell_type": "markdown",
   "metadata": {},
   "source": [
    "### Evaluation of Bonus Model"
   ]
  },
  {
   "cell_type": "markdown",
   "metadata": {},
   "source": [
    "We can see that the neural network improved in comparison to LR with optimized threshold in all tracked metrics. We increased the recall and lowered the false positive rate for class Revenue = 1. "
   ]
  },
  {
   "cell_type": "code",
   "execution_count": 67,
   "metadata": {},
   "outputs": [
    {
     "data": {
      "text/html": [
       "<div>\n",
       "<style scoped>\n",
       "    .dataframe tbody tr th:only-of-type {\n",
       "        vertical-align: middle;\n",
       "    }\n",
       "\n",
       "    .dataframe tbody tr th {\n",
       "        vertical-align: top;\n",
       "    }\n",
       "\n",
       "    .dataframe thead th {\n",
       "        text-align: right;\n",
       "    }\n",
       "</style>\n",
       "<table border=\"1\" class=\"dataframe\">\n",
       "  <thead>\n",
       "    <tr style=\"text-align: right;\">\n",
       "      <th></th>\n",
       "      <th>Model</th>\n",
       "      <th>EvaluationInfo</th>\n",
       "      <th>AreaUnderCurve</th>\n",
       "      <th>Accuracy</th>\n",
       "      <th>False_Precision</th>\n",
       "      <th>True_Precision</th>\n",
       "      <th>True_Recall</th>\n",
       "      <th>True_Recall_CV</th>\n",
       "      <th>True_F1_Score</th>\n",
       "    </tr>\n",
       "  </thead>\n",
       "  <tbody>\n",
       "    <tr>\n",
       "      <th>8</th>\n",
       "      <td>ANN - Keras</td>\n",
       "      <td>thr=0.35</td>\n",
       "      <td>NaN</td>\n",
       "      <td>88.195</td>\n",
       "      <td>94.949</td>\n",
       "      <td>60.140</td>\n",
       "      <td>74.138</td>\n",
       "      <td>NaN</td>\n",
       "      <td>69.183</td>\n",
       "    </tr>\n",
       "    <tr>\n",
       "      <th>7</th>\n",
       "      <td>LogisticRegression</td>\n",
       "      <td>thr=0.2</td>\n",
       "      <td>87.446</td>\n",
       "      <td>87.815</td>\n",
       "      <td>93.902</td>\n",
       "      <td>59.447</td>\n",
       "      <td>67.657</td>\n",
       "      <td>37.262</td>\n",
       "      <td>64.899</td>\n",
       "    </tr>\n",
       "    <tr>\n",
       "      <th>5</th>\n",
       "      <td>GaussianNB</td>\n",
       "      <td></td>\n",
       "      <td>77.730</td>\n",
       "      <td>74.898</td>\n",
       "      <td>92.502</td>\n",
       "      <td>34.113</td>\n",
       "      <td>66.259</td>\n",
       "      <td>66.938</td>\n",
       "      <td>51.366</td>\n",
       "    </tr>\n",
       "    <tr>\n",
       "      <th>4</th>\n",
       "      <td>GradientBoostingClassifier</td>\n",
       "      <td>n_estimators=500</td>\n",
       "      <td>91.552</td>\n",
       "      <td>90.556</td>\n",
       "      <td>92.473</td>\n",
       "      <td>76.047</td>\n",
       "      <td>57.168</td>\n",
       "      <td>57.020</td>\n",
       "      <td>61.896</td>\n",
       "    </tr>\n",
       "    <tr>\n",
       "      <th>2</th>\n",
       "      <td>DecisionTreeClassifier</td>\n",
       "      <td>gini</td>\n",
       "      <td>72.494</td>\n",
       "      <td>85.617</td>\n",
       "      <td>91.945</td>\n",
       "      <td>53.465</td>\n",
       "      <td>56.643</td>\n",
       "      <td>55.186</td>\n",
       "      <td>55.626</td>\n",
       "    </tr>\n",
       "    <tr>\n",
       "      <th>3</th>\n",
       "      <td>RandomForestClassifier</td>\n",
       "      <td>n_estimators=250</td>\n",
       "      <td>90.542</td>\n",
       "      <td>90.176</td>\n",
       "      <td>91.594</td>\n",
       "      <td>77.778</td>\n",
       "      <td>51.399</td>\n",
       "      <td>53.612</td>\n",
       "      <td>57.387</td>\n",
       "    </tr>\n",
       "    <tr>\n",
       "      <th>6</th>\n",
       "      <td>LogisticRegression</td>\n",
       "      <td>C=19.1, penalty=l1</td>\n",
       "      <td>86.929</td>\n",
       "      <td>88.195</td>\n",
       "      <td>89.129</td>\n",
       "      <td>76.046</td>\n",
       "      <td>34.965</td>\n",
       "      <td>37.629</td>\n",
       "      <td>41.935</td>\n",
       "    </tr>\n",
       "    <tr>\n",
       "      <th>1</th>\n",
       "      <td>DummyClassifier</td>\n",
       "      <td>stratified</td>\n",
       "      <td>50.326</td>\n",
       "      <td>72.619</td>\n",
       "      <td>83.783</td>\n",
       "      <td>11.734</td>\n",
       "      <td>11.713</td>\n",
       "      <td>16.142</td>\n",
       "      <td>11.720</td>\n",
       "    </tr>\n",
       "    <tr>\n",
       "      <th>0</th>\n",
       "      <td>DummyClassifier</td>\n",
       "      <td>most_frequent</td>\n",
       "      <td>50.000</td>\n",
       "      <td>84.478</td>\n",
       "      <td>84.478</td>\n",
       "      <td>0.000</td>\n",
       "      <td>0.000</td>\n",
       "      <td>0.000</td>\n",
       "      <td>0.000</td>\n",
       "    </tr>\n",
       "  </tbody>\n",
       "</table>\n",
       "</div>"
      ],
      "text/plain": [
       "                        Model      EvaluationInfo  AreaUnderCurve  Accuracy  \\\n",
       "8                 ANN - Keras            thr=0.35             NaN    88.195   \n",
       "7          LogisticRegression             thr=0.2          87.446    87.815   \n",
       "5                  GaussianNB                              77.730    74.898   \n",
       "4  GradientBoostingClassifier    n_estimators=500          91.552    90.556   \n",
       "2      DecisionTreeClassifier                gini          72.494    85.617   \n",
       "3      RandomForestClassifier    n_estimators=250          90.542    90.176   \n",
       "6          LogisticRegression  C=19.1, penalty=l1          86.929    88.195   \n",
       "1             DummyClassifier          stratified          50.326    72.619   \n",
       "0             DummyClassifier       most_frequent          50.000    84.478   \n",
       "\n",
       "   False_Precision  True_Precision  True_Recall  True_Recall_CV  True_F1_Score  \n",
       "8           94.949          60.140       74.138             NaN         69.183  \n",
       "7           93.902          59.447       67.657          37.262         64.899  \n",
       "5           92.502          34.113       66.259          66.938         51.366  \n",
       "4           92.473          76.047       57.168          57.020         61.896  \n",
       "2           91.945          53.465       56.643          55.186         55.626  \n",
       "3           91.594          77.778       51.399          53.612         57.387  \n",
       "6           89.129          76.046       34.965          37.629         41.935  \n",
       "1           83.783          11.734       11.713          16.142         11.720  \n",
       "0           84.478           0.000        0.000           0.000          0.000  "
      ]
     },
     "execution_count": 67,
     "metadata": {},
     "output_type": "execute_result"
    }
   ],
   "source": [
    "evaluation_matrix.sort_values(by=['True_Recall'], ascending=False)"
   ]
  }
 ],
 "metadata": {
  "kernelspec": {
   "display_name": "Python 3",
   "language": "python",
   "name": "python3"
  },
  "language_info": {
   "codemirror_mode": {
    "name": "ipython",
    "version": 3
   },
   "file_extension": ".py",
   "mimetype": "text/x-python",
   "name": "python",
   "nbconvert_exporter": "python",
   "pygments_lexer": "ipython3",
   "version": "3.7.5"
  },
  "pycharm": {
   "stem_cell": {
    "cell_type": "raw",
    "metadata": {
     "collapsed": false
    },
    "source": []
   }
  }
 },
 "nbformat": 4,
 "nbformat_minor": 1
}
